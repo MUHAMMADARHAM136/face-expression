{
  "nbformat": 4,
  "nbformat_minor": 0,
  "metadata": {
    "colab": {
      "provenance": [],
      "gpuType": "T4"
    },
    "kernelspec": {
      "name": "python3",
      "display_name": "Python 3"
    },
    "language_info": {
      "name": "python"
    },
    "accelerator": "GPU"
  },
  "cells": [
    {
      "cell_type": "code",
      "execution_count": 1,
      "metadata": {
        "colab": {
          "base_uri": "https://localhost:8080/"
        },
        "id": "QJMWcr2mZH_L",
        "outputId": "702493a9-b98d-453f-864d-a80662db1cef"
      },
      "outputs": [
        {
          "output_type": "stream",
          "name": "stdout",
          "text": [
            "Collecting opendatasets\n",
            "  Downloading opendatasets-0.1.22-py3-none-any.whl.metadata (9.2 kB)\n",
            "Requirement already satisfied: tqdm in /usr/local/lib/python3.12/dist-packages (from opendatasets) (4.67.1)\n",
            "Requirement already satisfied: kaggle in /usr/local/lib/python3.12/dist-packages (from opendatasets) (1.7.4.5)\n",
            "Requirement already satisfied: click in /usr/local/lib/python3.12/dist-packages (from opendatasets) (8.2.1)\n",
            "Requirement already satisfied: bleach in /usr/local/lib/python3.12/dist-packages (from kaggle->opendatasets) (6.2.0)\n",
            "Requirement already satisfied: certifi>=14.05.14 in /usr/local/lib/python3.12/dist-packages (from kaggle->opendatasets) (2025.8.3)\n",
            "Requirement already satisfied: charset-normalizer in /usr/local/lib/python3.12/dist-packages (from kaggle->opendatasets) (3.4.3)\n",
            "Requirement already satisfied: idna in /usr/local/lib/python3.12/dist-packages (from kaggle->opendatasets) (3.10)\n",
            "Requirement already satisfied: protobuf in /usr/local/lib/python3.12/dist-packages (from kaggle->opendatasets) (5.29.5)\n",
            "Requirement already satisfied: python-dateutil>=2.5.3 in /usr/local/lib/python3.12/dist-packages (from kaggle->opendatasets) (2.9.0.post0)\n",
            "Requirement already satisfied: python-slugify in /usr/local/lib/python3.12/dist-packages (from kaggle->opendatasets) (8.0.4)\n",
            "Requirement already satisfied: requests in /usr/local/lib/python3.12/dist-packages (from kaggle->opendatasets) (2.32.4)\n",
            "Requirement already satisfied: setuptools>=21.0.0 in /usr/local/lib/python3.12/dist-packages (from kaggle->opendatasets) (75.2.0)\n",
            "Requirement already satisfied: six>=1.10 in /usr/local/lib/python3.12/dist-packages (from kaggle->opendatasets) (1.17.0)\n",
            "Requirement already satisfied: text-unidecode in /usr/local/lib/python3.12/dist-packages (from kaggle->opendatasets) (1.3)\n",
            "Requirement already satisfied: urllib3>=1.15.1 in /usr/local/lib/python3.12/dist-packages (from kaggle->opendatasets) (2.5.0)\n",
            "Requirement already satisfied: webencodings in /usr/local/lib/python3.12/dist-packages (from kaggle->opendatasets) (0.5.1)\n",
            "Downloading opendatasets-0.1.22-py3-none-any.whl (15 kB)\n",
            "Installing collected packages: opendatasets\n",
            "Successfully installed opendatasets-0.1.22\n"
          ]
        }
      ],
      "source": [
        "pip install opendatasets"
      ]
    },
    {
      "cell_type": "code",
      "source": [
        "from google.colab import drive\n",
        "drive.mount('/content/drive')"
      ],
      "metadata": {
        "id": "Zwz7z6mMucCJ",
        "colab": {
          "base_uri": "https://localhost:8080/"
        },
        "outputId": "1980a591-cd48-47c1-ad84-e6a12d953ba7"
      },
      "execution_count": 2,
      "outputs": [
        {
          "output_type": "stream",
          "name": "stdout",
          "text": [
            "Mounted at /content/drive\n"
          ]
        }
      ]
    },
    {
      "cell_type": "code",
      "source": [
        "import opendatasets as od\n",
        "od.download('https://www.kaggle.com/datasets/jonathanoheix/face-expression-recognition-dataset/data')"
      ],
      "metadata": {
        "colab": {
          "base_uri": "https://localhost:8080/"
        },
        "id": "B2uErHbsZNg9",
        "outputId": "654a1c4d-ccac-4a46-b802-640b75f6fbf1"
      },
      "execution_count": 3,
      "outputs": [
        {
          "output_type": "stream",
          "name": "stdout",
          "text": [
            "Please provide your Kaggle credentials to download this dataset. Learn more: http://bit.ly/kaggle-creds\n",
            "Your Kaggle username: muhammadarhamzafar\n",
            "Your Kaggle Key: ··········\n",
            "Dataset URL: https://www.kaggle.com/datasets/jonathanoheix/face-expression-recognition-dataset\n",
            "Downloading face-expression-recognition-dataset.zip to ./face-expression-recognition-dataset\n"
          ]
        },
        {
          "output_type": "stream",
          "name": "stderr",
          "text": [
            "100%|██████████| 121M/121M [00:00<00:00, 762MB/s] "
          ]
        },
        {
          "output_type": "stream",
          "name": "stdout",
          "text": [
            "\n"
          ]
        },
        {
          "output_type": "stream",
          "name": "stderr",
          "text": [
            "\n"
          ]
        }
      ]
    },
    {
      "cell_type": "code",
      "source": [
        "import os\n",
        "import numpy as np\n",
        "import matplotlib.pyplot as plt\n",
        "import seaborn as sns\n",
        "from tensorflow.keras.preprocessing.image import ImageDataGenerator\n",
        "from tensorflow.keras.models import Sequential\n",
        "from tensorflow.keras.layers import Conv2D, MaxPooling2D, Flatten, Dense, Dropout, BatchNormalization\n",
        "from tensorflow.keras.optimizers import Adam\n",
        "from tensorflow.keras.callbacks import EarlyStopping, ModelCheckpoint,ReduceLROnPlateau\n",
        "from sklearn.metrics import classification_report, confusion_matrix"
      ],
      "metadata": {
        "id": "MG9mj_rrZNlP"
      },
      "execution_count": 4,
      "outputs": []
    },
    {
      "cell_type": "code",
      "source": [
        "data_dir = '/content/face-expression-recognition-dataset/images/images'\n",
        "train_dir = os.path.join(data_dir, 'train')\n",
        "validation_dir = os.path.join(data_dir, 'validation')"
      ],
      "metadata": {
        "id": "-nYujKMtiDuE"
      },
      "execution_count": 5,
      "outputs": []
    },
    {
      "cell_type": "code",
      "source": [
        "# Image Data Generator\n",
        "train_datagen = ImageDataGenerator(\n",
        "    rescale=1./255,\n",
        "    rotation_range=20,\n",
        "    zoom_range=0.2,\n",
        "    horizontal_flip=True\n",
        ")\n",
        "\n",
        "validation_datagen = ImageDataGenerator(rescale=1./255)\n",
        "\n",
        "# Train Generator\n",
        "train_generator = train_datagen.flow_from_directory(\n",
        "    train_dir,\n",
        "    target_size=(48, 48),\n",
        "    batch_size=64,\n",
        "    class_mode='categorical',\n",
        "    color_mode='grayscale'\n",
        ")\n",
        "\n",
        "# Validation Generator\n",
        "validation_generator = validation_datagen.flow_from_directory(\n",
        "    validation_dir,\n",
        "    target_size=(48, 48),\n",
        "    batch_size=64,\n",
        "    class_mode='categorical',\n",
        "    color_mode='grayscale'\n",
        ")"
      ],
      "metadata": {
        "colab": {
          "base_uri": "https://localhost:8080/"
        },
        "id": "s4xHR6GmiSJi",
        "outputId": "063102e1-ab1d-41f6-8c2d-bbe1d5402a05"
      },
      "execution_count": 6,
      "outputs": [
        {
          "output_type": "stream",
          "name": "stdout",
          "text": [
            "Found 28821 images belonging to 7 classes.\n",
            "Found 7066 images belonging to 7 classes.\n"
          ]
        }
      ]
    },
    {
      "cell_type": "code",
      "source": [
        "class_names = list(train_generator.class_indices.keys())\n",
        "\n",
        "images, labels = next(train_generator)\n",
        "plt.figure(figsize=(10, 10))\n",
        "for i in range(9):\n",
        "    plt.subplot(3, 3, i + 1)\n",
        "    plt.imshow(images[i].reshape(48, 48), cmap='gray')\n",
        "    plt.title(class_names[np.argmax(labels[i])])\n",
        "    plt.axis('off')\n",
        "plt.tight_layout()\n",
        "plt.show()"
      ],
      "metadata": {
        "colab": {
          "base_uri": "https://localhost:8080/",
          "height": 1000
        },
        "id": "82FyA-TUibr6",
        "outputId": "6df5371a-5b97-4de2-c10c-4ba25a88acb6"
      },
      "execution_count": 7,
      "outputs": [
        {
          "output_type": "display_data",
          "data": {
            "text/plain": [
              "<Figure size 1000x1000 with 9 Axes>"
            ],
            "image/png": "[encoded data removed]"
          },
          "metadata": {}
        }
      ]
    },
    {
      "cell_type": "code",
      "source": [
        "# 3. CNN Model Architecture\n",
        "model = Sequential([\n",
        "    Conv2D(64, (3, 3), activation='relu', input_shape=(48, 48, 1)),\n",
        "    BatchNormalization(),\n",
        "    MaxPooling2D(2, 2),\n",
        "    Dropout(0.25),\n",
        "\n",
        "    Conv2D(128, (3, 3), activation='relu'),\n",
        "    BatchNormalization(),\n",
        "    MaxPooling2D(2, 2),\n",
        "    Dropout(0.25),\n",
        "\n",
        "    Conv2D(256, (3, 3), activation='relu'),\n",
        "    BatchNormalization(),\n",
        "    MaxPooling2D(2, 2),\n",
        "    Dropout(0.25),\n",
        "\n",
        "    Flatten(),\n",
        "    Dense(512, activation='relu'),\n",
        "    BatchNormalization(),\n",
        "    Dropout(0.5),\n",
        "\n",
        "    Dense(7, activation='softmax')\n",
        "])\n",
        "\n",
        "model.compile(optimizer=Adam(learning_rate=0.001), loss='categorical_crossentropy', metrics=['accuracy'])\n",
        "\n",
        "model.summary()"
      ],
      "metadata": {
        "colab": {
          "base_uri": "https://localhost:8080/",
          "height": 837
        },
        "id": "fLNajZGnibvG",
        "outputId": "2ea07976-ada1-4dd9-ebd0-fba416d95155"
      },
      "execution_count": 8,
      "outputs": [
        {
          "output_type": "stream",
          "name": "stderr",
          "text": [
            "/usr/local/lib/python3.12/dist-packages/keras/src/layers/convolutional/base_conv.py:113: UserWarning: Do not pass an `input_shape`/`input_dim` argument to a layer. When using Sequential models, prefer using an `Input(shape)` object as the first layer in the model instead.\n",
            "  super().__init__(activity_regularizer=activity_regularizer, **kwargs)\n"
          ]
        },
        {
          "output_type": "display_data",
          "data": {
            "text/plain": [
              "\u001b[1mModel: \"sequential\"\u001b[0m\n"
            ],
            "text/html": [
              "<pre style=\"white-space:pre;overflow-x:auto;line-height:normal;font-family:Menlo,'DejaVu Sans Mono',consolas,'Courier New',monospace\"><span style=\"font-weight: bold\">Model: \"sequential\"</span>\n",
              "</pre>\n"
            ]
          },
          "metadata": {}
        },
        {
          "output_type": "display_data",
          "data": {
            "text/plain": [
              "┏━━━━━━━━━━━━━━━━━━━━━━━━━━━━━━━━━┳━━━━━━━━━━━━━━━━━━━━━━━━┳━━━━━━━━━━━━━━━┓\n",
              "┃\u001b[1m \u001b[0m\u001b[1mLayer (type)                   \u001b[0m\u001b[1m \u001b[0m┃\u001b[1m \u001b[0m\u001b[1mOutput Shape          \u001b[0m\u001b[1m \u001b[0m┃\u001b[1m \u001b[0m\u001b[1m      Param #\u001b[0m\u001b[1m \u001b[0m┃\n",
              "┡━━━━━━━━━━━━━━━━━━━━━━━━━━━━━━━━━╇━━━━━━━━━━━━━━━━━━━━━━━━╇━━━━━━━━━━━━━━━┩\n",
              "│ conv2d (\u001b[38;5;33mConv2D\u001b[0m)                 │ (\u001b[38;5;45mNone\u001b[0m, \u001b[38;5;34m46\u001b[0m, \u001b[38;5;34m46\u001b[0m, \u001b[38;5;34m64\u001b[0m)     │           \u001b[38;5;34m640\u001b[0m │\n",
              "├─────────────────────────────────┼────────────────────────┼───────────────┤\n",
              "│ batch_normalization             │ (\u001b[38;5;45mNone\u001b[0m, \u001b[38;5;34m46\u001b[0m, \u001b[38;5;34m46\u001b[0m, \u001b[38;5;34m64\u001b[0m)     │           \u001b[38;5;34m256\u001b[0m │\n",
              "│ (\u001b[38;5;33mBatchNormalization\u001b[0m)            │                        │               │\n",
              "├─────────────────────────────────┼────────────────────────┼───────────────┤\n",
              "│ max_pooling2d (\u001b[38;5;33mMaxPooling2D\u001b[0m)    │ (\u001b[38;5;45mNone\u001b[0m, \u001b[38;5;34m23\u001b[0m, \u001b[38;5;34m23\u001b[0m, \u001b[38;5;34m64\u001b[0m)     │             \u001b[38;5;34m0\u001b[0m │\n",
              "├─────────────────────────────────┼────────────────────────┼───────────────┤\n",
              "│ dropout (\u001b[38;5;33mDropout\u001b[0m)               │ (\u001b[38;5;45mNone\u001b[0m, \u001b[38;5;34m23\u001b[0m, \u001b[38;5;34m23\u001b[0m, \u001b[38;5;34m64\u001b[0m)     │             \u001b[38;5;34m0\u001b[0m │\n",
              "├─────────────────────────────────┼────────────────────────┼───────────────┤\n",
              "│ conv2d_1 (\u001b[38;5;33mConv2D\u001b[0m)               │ (\u001b[38;5;45mNone\u001b[0m, \u001b[38;5;34m21\u001b[0m, \u001b[38;5;34m21\u001b[0m, \u001b[38;5;34m128\u001b[0m)    │        \u001b[38;5;34m73,856\u001b[0m │\n",
              "├─────────────────────────────────┼────────────────────────┼───────────────┤\n",
              "│ batch_normalization_1           │ (\u001b[38;5;45mNone\u001b[0m, \u001b[38;5;34m21\u001b[0m, \u001b[38;5;34m21\u001b[0m, \u001b[38;5;34m128\u001b[0m)    │           \u001b[38;5;34m512\u001b[0m │\n",
              "│ (\u001b[38;5;33mBatchNormalization\u001b[0m)            │                        │               │\n",
              "├─────────────────────────────────┼────────────────────────┼───────────────┤\n",
              "│ max_pooling2d_1 (\u001b[38;5;33mMaxPooling2D\u001b[0m)  │ (\u001b[38;5;45mNone\u001b[0m, \u001b[38;5;34m10\u001b[0m, \u001b[38;5;34m10\u001b[0m, \u001b[38;5;34m128\u001b[0m)    │             \u001b[38;5;34m0\u001b[0m │\n",
              "├─────────────────────────────────┼────────────────────────┼───────────────┤\n",
              "│ dropout_1 (\u001b[38;5;33mDropout\u001b[0m)             │ (\u001b[38;5;45mNone\u001b[0m, \u001b[38;5;34m10\u001b[0m, \u001b[38;5;34m10\u001b[0m, \u001b[38;5;34m128\u001b[0m)    │             \u001b[38;5;34m0\u001b[0m │\n",
              "├─────────────────────────────────┼────────────────────────┼───────────────┤\n",
              "│ conv2d_2 (\u001b[38;5;33mConv2D\u001b[0m)               │ (\u001b[38;5;45mNone\u001b[0m, \u001b[38;5;34m8\u001b[0m, \u001b[38;5;34m8\u001b[0m, \u001b[38;5;34m256\u001b[0m)      │       \u001b[38;5;34m295,168\u001b[0m │\n",
              "├─────────────────────────────────┼────────────────────────┼───────────────┤\n",
              "│ batch_normalization_2           │ (\u001b[38;5;45mNone\u001b[0m, \u001b[38;5;34m8\u001b[0m, \u001b[38;5;34m8\u001b[0m, \u001b[38;5;34m256\u001b[0m)      │         \u001b[38;5;34m1,024\u001b[0m │\n",
              "│ (\u001b[38;5;33mBatchNormalization\u001b[0m)            │                        │               │\n",
              "├─────────────────────────────────┼────────────────────────┼───────────────┤\n",
              "│ max_pooling2d_2 (\u001b[38;5;33mMaxPooling2D\u001b[0m)  │ (\u001b[38;5;45mNone\u001b[0m, \u001b[38;5;34m4\u001b[0m, \u001b[38;5;34m4\u001b[0m, \u001b[38;5;34m256\u001b[0m)      │             \u001b[38;5;34m0\u001b[0m │\n",
              "├─────────────────────────────────┼────────────────────────┼───────────────┤\n",
              "│ dropout_2 (\u001b[38;5;33mDropout\u001b[0m)             │ (\u001b[38;5;45mNone\u001b[0m, \u001b[38;5;34m4\u001b[0m, \u001b[38;5;34m4\u001b[0m, \u001b[38;5;34m256\u001b[0m)      │             \u001b[38;5;34m0\u001b[0m │\n",
              "├─────────────────────────────────┼────────────────────────┼───────────────┤\n",
              "│ flatten (\u001b[38;5;33mFlatten\u001b[0m)               │ (\u001b[38;5;45mNone\u001b[0m, \u001b[38;5;34m4096\u001b[0m)           │             \u001b[38;5;34m0\u001b[0m │\n",
              "├─────────────────────────────────┼────────────────────────┼───────────────┤\n",
              "│ dense (\u001b[38;5;33mDense\u001b[0m)                   │ (\u001b[38;5;45mNone\u001b[0m, \u001b[38;5;34m512\u001b[0m)            │     \u001b[38;5;34m2,097,664\u001b[0m │\n",
              "├─────────────────────────────────┼────────────────────────┼───────────────┤\n",
              "│ batch_normalization_3           │ (\u001b[38;5;45mNone\u001b[0m, \u001b[38;5;34m512\u001b[0m)            │         \u001b[38;5;34m2,048\u001b[0m │\n",
              "│ (\u001b[38;5;33mBatchNormalization\u001b[0m)            │                        │               │\n",
              "├─────────────────────────────────┼────────────────────────┼───────────────┤\n",
              "│ dropout_3 (\u001b[38;5;33mDropout\u001b[0m)             │ (\u001b[38;5;45mNone\u001b[0m, \u001b[38;5;34m512\u001b[0m)            │             \u001b[38;5;34m0\u001b[0m │\n",
              "├─────────────────────────────────┼────────────────────────┼───────────────┤\n",
              "│ dense_1 (\u001b[38;5;33mDense\u001b[0m)                 │ (\u001b[38;5;45mNone\u001b[0m, \u001b[38;5;34m7\u001b[0m)              │         \u001b[38;5;34m3,591\u001b[0m │\n",
              "└─────────────────────────────────┴────────────────────────┴───────────────┘\n"
            ],
            "text/html": [
              "<pre style=\"white-space:pre;overflow-x:auto;line-height:normal;font-family:Menlo,'DejaVu Sans Mono',consolas,'Courier New',monospace\">┏━━━━━━━━━━━━━━━━━━━━━━━━━━━━━━━━━┳━━━━━━━━━━━━━━━━━━━━━━━━┳━━━━━━━━━━━━━━━┓\n",
              "┃<span style=\"font-weight: bold\"> Layer (type)                    </span>┃<span style=\"font-weight: bold\"> Output Shape           </span>┃<span style=\"font-weight: bold\">       Param # </span>┃\n",
              "┡━━━━━━━━━━━━━━━━━━━━━━━━━━━━━━━━━╇━━━━━━━━━━━━━━━━━━━━━━━━╇━━━━━━━━━━━━━━━┩\n",
              "│ conv2d (<span style=\"color: #0087ff; text-decoration-color: #0087ff\">Conv2D</span>)                 │ (<span style=\"color: #00d7ff; text-decoration-color: #00d7ff\">None</span>, <span style=\"color: #00af00; text-decoration-color: #00af00\">46</span>, <span style=\"color: #00af00; text-decoration-color: #00af00\">46</span>, <span style=\"color: #00af00; text-decoration-color: #00af00\">64</span>)     │           <span style=\"color: #00af00; text-decoration-color: #00af00\">640</span> │\n",
              "├─────────────────────────────────┼────────────────────────┼───────────────┤\n",
              "│ batch_normalization             │ (<span style=\"color: #00d7ff; text-decoration-color: #00d7ff\">None</span>, <span style=\"color: #00af00; text-decoration-color: #00af00\">46</span>, <span style=\"color: #00af00; text-decoration-color: #00af00\">46</span>, <span style=\"color: #00af00; text-decoration-color: #00af00\">64</span>)     │           <span style=\"color: #00af00; text-decoration-color: #00af00\">256</span> │\n",
              "│ (<span style=\"color: #0087ff; text-decoration-color: #0087ff\">BatchNormalization</span>)            │                        │               │\n",
              "├─────────────────────────────────┼────────────────────────┼───────────────┤\n",
              "│ max_pooling2d (<span style=\"color: #0087ff; text-decoration-color: #0087ff\">MaxPooling2D</span>)    │ (<span style=\"color: #00d7ff; text-decoration-color: #00d7ff\">None</span>, <span style=\"color: #00af00; text-decoration-color: #00af00\">23</span>, <span style=\"color: #00af00; text-decoration-color: #00af00\">23</span>, <span style=\"color: #00af00; text-decoration-color: #00af00\">64</span>)     │             <span style=\"color: #00af00; text-decoration-color: #00af00\">0</span> │\n",
              "├─────────────────────────────────┼────────────────────────┼───────────────┤\n",
              "│ dropout (<span style=\"color: #0087ff; text-decoration-color: #0087ff\">Dropout</span>)               │ (<span style=\"color: #00d7ff; text-decoration-color: #00d7ff\">None</span>, <span style=\"color: #00af00; text-decoration-color: #00af00\">23</span>, <span style=\"color: #00af00; text-decoration-color: #00af00\">23</span>, <span style=\"color: #00af00; text-decoration-color: #00af00\">64</span>)     │             <span style=\"color: #00af00; text-decoration-color: #00af00\">0</span> │\n",
              "├─────────────────────────────────┼────────────────────────┼───────────────┤\n",
              "│ conv2d_1 (<span style=\"color: #0087ff; text-decoration-color: #0087ff\">Conv2D</span>)               │ (<span style=\"color: #00d7ff; text-decoration-color: #00d7ff\">None</span>, <span style=\"color: #00af00; text-decoration-color: #00af00\">21</span>, <span style=\"color: #00af00; text-decoration-color: #00af00\">21</span>, <span style=\"color: #00af00; text-decoration-color: #00af00\">128</span>)    │        <span style=\"color: #00af00; text-decoration-color: #00af00\">73,856</span> │\n",
              "├─────────────────────────────────┼────────────────────────┼───────────────┤\n",
              "│ batch_normalization_1           │ (<span style=\"color: #00d7ff; text-decoration-color: #00d7ff\">None</span>, <span style=\"color: #00af00; text-decoration-color: #00af00\">21</span>, <span style=\"color: #00af00; text-decoration-color: #00af00\">21</span>, <span style=\"color: #00af00; text-decoration-color: #00af00\">128</span>)    │           <span style=\"color: #00af00; text-decoration-color: #00af00\">512</span> │\n",
              "│ (<span style=\"color: #0087ff; text-decoration-color: #0087ff\">BatchNormalization</span>)            │                        │               │\n",
              "├─────────────────────────────────┼────────────────────────┼───────────────┤\n",
              "│ max_pooling2d_1 (<span style=\"color: #0087ff; text-decoration-color: #0087ff\">MaxPooling2D</span>)  │ (<span style=\"color: #00d7ff; text-decoration-color: #00d7ff\">None</span>, <span style=\"color: #00af00; text-decoration-color: #00af00\">10</span>, <span style=\"color: #00af00; text-decoration-color: #00af00\">10</span>, <span style=\"color: #00af00; text-decoration-color: #00af00\">128</span>)    │             <span style=\"color: #00af00; text-decoration-color: #00af00\">0</span> │\n",
              "├─────────────────────────────────┼────────────────────────┼───────────────┤\n",
              "│ dropout_1 (<span style=\"color: #0087ff; text-decoration-color: #0087ff\">Dropout</span>)             │ (<span style=\"color: #00d7ff; text-decoration-color: #00d7ff\">None</span>, <span style=\"color: #00af00; text-decoration-color: #00af00\">10</span>, <span style=\"color: #00af00; text-decoration-color: #00af00\">10</span>, <span style=\"color: #00af00; text-decoration-color: #00af00\">128</span>)    │             <span style=\"color: #00af00; text-decoration-color: #00af00\">0</span> │\n",
              "├─────────────────────────────────┼────────────────────────┼───────────────┤\n",
              "│ conv2d_2 (<span style=\"color: #0087ff; text-decoration-color: #0087ff\">Conv2D</span>)               │ (<span style=\"color: #00d7ff; text-decoration-color: #00d7ff\">None</span>, <span style=\"color: #00af00; text-decoration-color: #00af00\">8</span>, <span style=\"color: #00af00; text-decoration-color: #00af00\">8</span>, <span style=\"color: #00af00; text-decoration-color: #00af00\">256</span>)      │       <span style=\"color: #00af00; text-decoration-color: #00af00\">295,168</span> │\n",
              "├─────────────────────────────────┼────────────────────────┼───────────────┤\n",
              "│ batch_normalization_2           │ (<span style=\"color: #00d7ff; text-decoration-color: #00d7ff\">None</span>, <span style=\"color: #00af00; text-decoration-color: #00af00\">8</span>, <span style=\"color: #00af00; text-decoration-color: #00af00\">8</span>, <span style=\"color: #00af00; text-decoration-color: #00af00\">256</span>)      │         <span style=\"color: #00af00; text-decoration-color: #00af00\">1,024</span> │\n",
              "│ (<span style=\"color: #0087ff; text-decoration-color: #0087ff\">BatchNormalization</span>)            │                        │               │\n",
              "├─────────────────────────────────┼────────────────────────┼───────────────┤\n",
              "│ max_pooling2d_2 (<span style=\"color: #0087ff; text-decoration-color: #0087ff\">MaxPooling2D</span>)  │ (<span style=\"color: #00d7ff; text-decoration-color: #00d7ff\">None</span>, <span style=\"color: #00af00; text-decoration-color: #00af00\">4</span>, <span style=\"color: #00af00; text-decoration-color: #00af00\">4</span>, <span style=\"color: #00af00; text-decoration-color: #00af00\">256</span>)      │             <span style=\"color: #00af00; text-decoration-color: #00af00\">0</span> │\n",
              "├─────────────────────────────────┼────────────────────────┼───────────────┤\n",
              "│ dropout_2 (<span style=\"color: #0087ff; text-decoration-color: #0087ff\">Dropout</span>)             │ (<span style=\"color: #00d7ff; text-decoration-color: #00d7ff\">None</span>, <span style=\"color: #00af00; text-decoration-color: #00af00\">4</span>, <span style=\"color: #00af00; text-decoration-color: #00af00\">4</span>, <span style=\"color: #00af00; text-decoration-color: #00af00\">256</span>)      │             <span style=\"color: #00af00; text-decoration-color: #00af00\">0</span> │\n",
              "├─────────────────────────────────┼────────────────────────┼───────────────┤\n",
              "│ flatten (<span style=\"color: #0087ff; text-decoration-color: #0087ff\">Flatten</span>)               │ (<span style=\"color: #00d7ff; text-decoration-color: #00d7ff\">None</span>, <span style=\"color: #00af00; text-decoration-color: #00af00\">4096</span>)           │             <span style=\"color: #00af00; text-decoration-color: #00af00\">0</span> │\n",
              "├─────────────────────────────────┼────────────────────────┼───────────────┤\n",
              "│ dense (<span style=\"color: #0087ff; text-decoration-color: #0087ff\">Dense</span>)                   │ (<span style=\"color: #00d7ff; text-decoration-color: #00d7ff\">None</span>, <span style=\"color: #00af00; text-decoration-color: #00af00\">512</span>)            │     <span style=\"color: #00af00; text-decoration-color: #00af00\">2,097,664</span> │\n",
              "├─────────────────────────────────┼────────────────────────┼───────────────┤\n",
              "│ batch_normalization_3           │ (<span style=\"color: #00d7ff; text-decoration-color: #00d7ff\">None</span>, <span style=\"color: #00af00; text-decoration-color: #00af00\">512</span>)            │         <span style=\"color: #00af00; text-decoration-color: #00af00\">2,048</span> │\n",
              "│ (<span style=\"color: #0087ff; text-decoration-color: #0087ff\">BatchNormalization</span>)            │                        │               │\n",
              "├─────────────────────────────────┼────────────────────────┼───────────────┤\n",
              "│ dropout_3 (<span style=\"color: #0087ff; text-decoration-color: #0087ff\">Dropout</span>)             │ (<span style=\"color: #00d7ff; text-decoration-color: #00d7ff\">None</span>, <span style=\"color: #00af00; text-decoration-color: #00af00\">512</span>)            │             <span style=\"color: #00af00; text-decoration-color: #00af00\">0</span> │\n",
              "├─────────────────────────────────┼────────────────────────┼───────────────┤\n",
              "│ dense_1 (<span style=\"color: #0087ff; text-decoration-color: #0087ff\">Dense</span>)                 │ (<span style=\"color: #00d7ff; text-decoration-color: #00d7ff\">None</span>, <span style=\"color: #00af00; text-decoration-color: #00af00\">7</span>)              │         <span style=\"color: #00af00; text-decoration-color: #00af00\">3,591</span> │\n",
              "└─────────────────────────────────┴────────────────────────┴───────────────┘\n",
              "</pre>\n"
            ]
          },
          "metadata": {}
        },
        {
          "output_type": "display_data",
          "data": {
            "text/plain": [
              "\u001b[1m Total params: \u001b[0m\u001b[38;5;34m2,474,759\u001b[0m (9.44 MB)\n"
            ],
            "text/html": [
              "<pre style=\"white-space:pre;overflow-x:auto;line-height:normal;font-family:Menlo,'DejaVu Sans Mono',consolas,'Courier New',monospace\"><span style=\"font-weight: bold\"> Total params: </span><span style=\"color: #00af00; text-decoration-color: #00af00\">2,474,759</span> (9.44 MB)\n",
              "</pre>\n"
            ]
          },
          "metadata": {}
        },
        {
          "output_type": "display_data",
          "data": {
            "text/plain": [
              "\u001b[1m Trainable params: \u001b[0m\u001b[38;5;34m2,472,839\u001b[0m (9.43 MB)\n"
            ],
            "text/html": [
              "<pre style=\"white-space:pre;overflow-x:auto;line-height:normal;font-family:Menlo,'DejaVu Sans Mono',consolas,'Courier New',monospace\"><span style=\"font-weight: bold\"> Trainable params: </span><span style=\"color: #00af00; text-decoration-color: #00af00\">2,472,839</span> (9.43 MB)\n",
              "</pre>\n"
            ]
          },
          "metadata": {}
        },
        {
          "output_type": "display_data",
          "data": {
            "text/plain": [
              "\u001b[1m Non-trainable params: \u001b[0m\u001b[38;5;34m1,920\u001b[0m (7.50 KB)\n"
            ],
            "text/html": [
              "<pre style=\"white-space:pre;overflow-x:auto;line-height:normal;font-family:Menlo,'DejaVu Sans Mono',consolas,'Courier New',monospace\"><span style=\"font-weight: bold\"> Non-trainable params: </span><span style=\"color: #00af00; text-decoration-color: #00af00\">1,920</span> (7.50 KB)\n",
              "</pre>\n"
            ]
          },
          "metadata": {}
        }
      ]
    },
    {
      "cell_type": "code",
      "source": [
        "# Callbacks\n",
        "early_stopping = EarlyStopping(monitor='val_loss', patience=5, restore_best_weights=True)\n",
        "lr_scheduler = ReduceLROnPlateau(monitor='val_loss', factor=0.2, patience=3, min_lr=1e-6, verbose=1)\n",
        "\n",
        "# Model Training\n",
        "history = model.fit(\n",
        "    train_generator,\n",
        "    epochs=50,\n",
        "    validation_data=validation_generator,\n",
        "    callbacks=[early_stopping, lr_scheduler]\n",
        ")"
      ],
      "metadata": {
        "colab": {
          "base_uri": "https://localhost:8080/"
        },
        "id": "q-cOo3Hyib2j",
        "outputId": "f21990ea-75c1-4137-8917-735655de0010"
      },
      "execution_count": 9,
      "outputs": [
        {
          "output_type": "stream",
          "name": "stdout",
          "text": [
            "Epoch 1/50\n"
          ]
        },
        {
          "output_type": "stream",
          "name": "stderr",
          "text": [
            "/usr/local/lib/python3.12/dist-packages/keras/src/trainers/data_adapters/py_dataset_adapter.py:121: UserWarning: Your `PyDataset` class should call `super().__init__(**kwargs)` in its constructor. `**kwargs` can include `workers`, `use_multiprocessing`, `max_queue_size`. Do not pass these arguments to `fit()`, as they will be ignored.\n",
            "  self._warn_if_super_not_called()\n"
          ]
        },
        {
          "output_type": "stream",
          "name": "stdout",
          "text": [
            "\u001b[1m451/451\u001b[0m \u001b[32m━━━━━━━━━━━━━━━━━━━━\u001b[0m\u001b[37m\u001b[0m \u001b[1m42s\u001b[0m 68ms/step - accuracy: 0.2421 - loss: 2.3782 - val_accuracy: 0.2921 - val_loss: 1.8809 - learning_rate: 0.0010\n",
            "Epoch 2/50\n",
            "\u001b[1m451/451\u001b[0m \u001b[32m━━━━━━━━━━━━━━━━━━━━\u001b[0m\u001b[37m\u001b[0m \u001b[1m23s\u001b[0m 52ms/step - accuracy: 0.3835 - loss: 1.6430 - val_accuracy: 0.4147 - val_loss: 1.5303 - learning_rate: 0.0010\n",
            "Epoch 3/50\n",
            "\u001b[1m451/451\u001b[0m \u001b[32m━━━━━━━━━━━━━━━━━━━━\u001b[0m\u001b[37m\u001b[0m \u001b[1m23s\u001b[0m 51ms/step - accuracy: 0.4406 - loss: 1.4762 - val_accuracy: 0.4530 - val_loss: 1.4078 - learning_rate: 0.0010\n",
            "Epoch 4/50\n",
            "\u001b[1m451/451\u001b[0m \u001b[32m━━━━━━━━━━━━━━━━━━━━\u001b[0m\u001b[37m\u001b[0m \u001b[1m41s\u001b[0m 52ms/step - accuracy: 0.4671 - loss: 1.3949 - val_accuracy: 0.4993 - val_loss: 1.3103 - learning_rate: 0.0010\n",
            "Epoch 5/50\n",
            "\u001b[1m451/451\u001b[0m \u001b[32m━━━━━━━━━━━━━━━━━━━━\u001b[0m\u001b[37m\u001b[0m \u001b[1m23s\u001b[0m 51ms/step - accuracy: 0.4888 - loss: 1.3442 - val_accuracy: 0.4735 - val_loss: 1.3545 - learning_rate: 0.0010\n",
            "Epoch 6/50\n",
            "\u001b[1m451/451\u001b[0m \u001b[32m━━━━━━━━━━━━━━━━━━━━\u001b[0m\u001b[37m\u001b[0m \u001b[1m42s\u001b[0m 53ms/step - accuracy: 0.4935 - loss: 1.3193 - val_accuracy: 0.5579 - val_loss: 1.1906 - learning_rate: 0.0010\n",
            "Epoch 7/50\n",
            "\u001b[1m451/451\u001b[0m \u001b[32m━━━━━━━━━━━━━━━━━━━━\u001b[0m\u001b[37m\u001b[0m \u001b[1m23s\u001b[0m 52ms/step - accuracy: 0.5094 - loss: 1.2910 - val_accuracy: 0.5375 - val_loss: 1.2271 - learning_rate: 0.0010\n",
            "Epoch 8/50\n",
            "\u001b[1m451/451\u001b[0m \u001b[32m━━━━━━━━━━━━━━━━━━━━\u001b[0m\u001b[37m\u001b[0m \u001b[1m41s\u001b[0m 52ms/step - accuracy: 0.5165 - loss: 1.2622 - val_accuracy: 0.4805 - val_loss: 1.3765 - learning_rate: 0.0010\n",
            "Epoch 9/50\n",
            "\u001b[1m451/451\u001b[0m \u001b[32m━━━━━━━━━━━━━━━━━━━━\u001b[0m\u001b[37m\u001b[0m \u001b[1m23s\u001b[0m 51ms/step - accuracy: 0.5071 - loss: 1.2771 - val_accuracy: 0.5756 - val_loss: 1.1508 - learning_rate: 0.0010\n",
            "Epoch 10/50\n",
            "\u001b[1m451/451\u001b[0m \u001b[32m━━━━━━━━━━━━━━━━━━━━\u001b[0m\u001b[37m\u001b[0m \u001b[1m23s\u001b[0m 51ms/step - accuracy: 0.5266 - loss: 1.2446 - val_accuracy: 0.5658 - val_loss: 1.1594 - learning_rate: 0.0010\n",
            "Epoch 11/50\n",
            "\u001b[1m451/451\u001b[0m \u001b[32m━━━━━━━━━━━━━━━━━━━━\u001b[0m\u001b[37m\u001b[0m \u001b[1m24s\u001b[0m 53ms/step - accuracy: 0.5314 - loss: 1.2223 - val_accuracy: 0.5764 - val_loss: 1.1376 - learning_rate: 0.0010\n",
            "Epoch 12/50\n",
            "\u001b[1m451/451\u001b[0m \u001b[32m━━━━━━━━━━━━━━━━━━━━\u001b[0m\u001b[37m\u001b[0m \u001b[1m24s\u001b[0m 53ms/step - accuracy: 0.5378 - loss: 1.2148 - val_accuracy: 0.5558 - val_loss: 1.1908 - learning_rate: 0.0010\n",
            "Epoch 13/50\n",
            "\u001b[1m451/451\u001b[0m \u001b[32m━━━━━━━━━━━━━━━━━━━━\u001b[0m\u001b[37m\u001b[0m \u001b[1m23s\u001b[0m 51ms/step - accuracy: 0.5389 - loss: 1.2076 - val_accuracy: 0.5759 - val_loss: 1.1317 - learning_rate: 0.0010\n",
            "Epoch 14/50\n",
            "\u001b[1m451/451\u001b[0m \u001b[32m━━━━━━━━━━━━━━━━━━━━\u001b[0m\u001b[37m\u001b[0m \u001b[1m23s\u001b[0m 51ms/step - accuracy: 0.5460 - loss: 1.1987 - val_accuracy: 0.5650 - val_loss: 1.1654 - learning_rate: 0.0010\n",
            "Epoch 15/50\n",
            "\u001b[1m451/451\u001b[0m \u001b[32m━━━━━━━━━━━━━━━━━━━━\u001b[0m\u001b[37m\u001b[0m \u001b[1m24s\u001b[0m 53ms/step - accuracy: 0.5472 - loss: 1.1833 - val_accuracy: 0.5727 - val_loss: 1.1435 - learning_rate: 0.0010\n",
            "Epoch 16/50\n",
            "\u001b[1m451/451\u001b[0m \u001b[32m━━━━━━━━━━━━━━━━━━━━\u001b[0m\u001b[37m\u001b[0m \u001b[1m23s\u001b[0m 52ms/step - accuracy: 0.5543 - loss: 1.1722 - val_accuracy: 0.5828 - val_loss: 1.1145 - learning_rate: 0.0010\n",
            "Epoch 17/50\n",
            "\u001b[1m451/451\u001b[0m \u001b[32m━━━━━━━━━━━━━━━━━━━━\u001b[0m\u001b[37m\u001b[0m \u001b[1m23s\u001b[0m 51ms/step - accuracy: 0.5570 - loss: 1.1694 - val_accuracy: 0.5444 - val_loss: 1.2240 - learning_rate: 0.0010\n",
            "Epoch 18/50\n",
            "\u001b[1m451/451\u001b[0m \u001b[32m━━━━━━━━━━━━━━━━━━━━\u001b[0m\u001b[37m\u001b[0m \u001b[1m23s\u001b[0m 51ms/step - accuracy: 0.5635 - loss: 1.1555 - val_accuracy: 0.5692 - val_loss: 1.1639 - learning_rate: 0.0010\n",
            "Epoch 19/50\n",
            "\u001b[1m451/451\u001b[0m \u001b[32m━━━━━━━━━━━━━━━━━━━━\u001b[0m\u001b[37m\u001b[0m \u001b[1m0s\u001b[0m 48ms/step - accuracy: 0.5655 - loss: 1.1523\n",
            "Epoch 19: ReduceLROnPlateau reducing learning rate to 0.00020000000949949026.\n",
            "\u001b[1m451/451\u001b[0m \u001b[32m━━━━━━━━━━━━━━━━━━━━\u001b[0m\u001b[37m\u001b[0m \u001b[1m24s\u001b[0m 54ms/step - accuracy: 0.5655 - loss: 1.1523 - val_accuracy: 0.5685 - val_loss: 1.1623 - learning_rate: 0.0010\n",
            "Epoch 20/50\n",
            "\u001b[1m451/451\u001b[0m \u001b[32m━━━━━━━━━━━━━━━━━━━━\u001b[0m\u001b[37m\u001b[0m \u001b[1m23s\u001b[0m 52ms/step - accuracy: 0.5827 - loss: 1.1018 - val_accuracy: 0.6261 - val_loss: 1.0158 - learning_rate: 2.0000e-04\n",
            "Epoch 21/50\n",
            "\u001b[1m451/451\u001b[0m \u001b[32m━━━━━━━━━━━━━━━━━━━━\u001b[0m\u001b[37m\u001b[0m \u001b[1m23s\u001b[0m 51ms/step - accuracy: 0.5903 - loss: 1.0919 - val_accuracy: 0.6251 - val_loss: 1.0097 - learning_rate: 2.0000e-04\n",
            "Epoch 22/50\n",
            "\u001b[1m451/451\u001b[0m \u001b[32m━━━━━━━━━━━━━━━━━━━━\u001b[0m\u001b[37m\u001b[0m \u001b[1m23s\u001b[0m 50ms/step - accuracy: 0.5873 - loss: 1.0932 - val_accuracy: 0.6305 - val_loss: 1.0076 - learning_rate: 2.0000e-04\n",
            "Epoch 23/50\n",
            "\u001b[1m451/451\u001b[0m \u001b[32m━━━━━━━━━━━━━━━━━━━━\u001b[0m\u001b[37m\u001b[0m \u001b[1m23s\u001b[0m 52ms/step - accuracy: 0.5942 - loss: 1.0692 - val_accuracy: 0.6318 - val_loss: 0.9900 - learning_rate: 2.0000e-04\n",
            "Epoch 24/50\n",
            "\u001b[1m451/451\u001b[0m \u001b[32m━━━━━━━━━━━━━━━━━━━━\u001b[0m\u001b[37m\u001b[0m \u001b[1m24s\u001b[0m 53ms/step - accuracy: 0.5962 - loss: 1.0588 - val_accuracy: 0.6257 - val_loss: 1.0410 - learning_rate: 2.0000e-04\n",
            "Epoch 25/50\n",
            "\u001b[1m451/451\u001b[0m \u001b[32m━━━━━━━━━━━━━━━━━━━━\u001b[0m\u001b[37m\u001b[0m \u001b[1m23s\u001b[0m 52ms/step - accuracy: 0.6056 - loss: 1.0577 - val_accuracy: 0.6342 - val_loss: 0.9986 - learning_rate: 2.0000e-04\n",
            "Epoch 26/50\n",
            "\u001b[1m451/451\u001b[0m \u001b[32m━━━━━━━━━━━━━━━━━━━━\u001b[0m\u001b[37m\u001b[0m \u001b[1m0s\u001b[0m 46ms/step - accuracy: 0.6015 - loss: 1.0567\n",
            "Epoch 26: ReduceLROnPlateau reducing learning rate to 4.0000001899898055e-05.\n",
            "\u001b[1m451/451\u001b[0m \u001b[32m━━━━━━━━━━━━━━━━━━━━\u001b[0m\u001b[37m\u001b[0m \u001b[1m23s\u001b[0m 51ms/step - accuracy: 0.6015 - loss: 1.0567 - val_accuracy: 0.6308 - val_loss: 1.0040 - learning_rate: 2.0000e-04\n",
            "Epoch 27/50\n",
            "\u001b[1m451/451\u001b[0m \u001b[32m━━━━━━━━━━━━━━━━━━━━\u001b[0m\u001b[37m\u001b[0m \u001b[1m23s\u001b[0m 52ms/step - accuracy: 0.6025 - loss: 1.0458 - val_accuracy: 0.6333 - val_loss: 0.9958 - learning_rate: 4.0000e-05\n",
            "Epoch 28/50\n",
            "\u001b[1m451/451\u001b[0m \u001b[32m━━━━━━━━━━━━━━━━━━━━\u001b[0m\u001b[37m\u001b[0m \u001b[1m24s\u001b[0m 53ms/step - accuracy: 0.6061 - loss: 1.0441 - val_accuracy: 0.6404 - val_loss: 0.9869 - learning_rate: 4.0000e-05\n",
            "Epoch 29/50\n",
            "\u001b[1m451/451\u001b[0m \u001b[32m━━━━━━━━━━━━━━━━━━━━\u001b[0m\u001b[37m\u001b[0m \u001b[1m23s\u001b[0m 52ms/step - accuracy: 0.6081 - loss: 1.0436 - val_accuracy: 0.6417 - val_loss: 0.9774 - learning_rate: 4.0000e-05\n",
            "Epoch 30/50\n",
            "\u001b[1m451/451\u001b[0m \u001b[32m━━━━━━━━━━━━━━━━━━━━\u001b[0m\u001b[37m\u001b[0m \u001b[1m23s\u001b[0m 51ms/step - accuracy: 0.6046 - loss: 1.0398 - val_accuracy: 0.6390 - val_loss: 0.9816 - learning_rate: 4.0000e-05\n",
            "Epoch 31/50\n",
            "\u001b[1m451/451\u001b[0m \u001b[32m━━━━━━━━━━━━━━━━━━━━\u001b[0m\u001b[37m\u001b[0m \u001b[1m23s\u001b[0m 51ms/step - accuracy: 0.6067 - loss: 1.0373 - val_accuracy: 0.6431 - val_loss: 0.9765 - learning_rate: 4.0000e-05\n",
            "Epoch 32/50\n",
            "\u001b[1m451/451\u001b[0m \u001b[32m━━━━━━━━━━━━━━━━━━━━\u001b[0m\u001b[37m\u001b[0m \u001b[1m23s\u001b[0m 50ms/step - accuracy: 0.6064 - loss: 1.0413 - val_accuracy: 0.6421 - val_loss: 0.9758 - learning_rate: 4.0000e-05\n",
            "Epoch 33/50\n",
            "\u001b[1m451/451\u001b[0m \u001b[32m━━━━━━━━━━━━━━━━━━━━\u001b[0m\u001b[37m\u001b[0m \u001b[1m23s\u001b[0m 52ms/step - accuracy: 0.6169 - loss: 1.0240 - val_accuracy: 0.6376 - val_loss: 0.9796 - learning_rate: 4.0000e-05\n",
            "Epoch 34/50\n",
            "\u001b[1m451/451\u001b[0m \u001b[32m━━━━━━━━━━━━━━━━━━━━\u001b[0m\u001b[37m\u001b[0m \u001b[1m24s\u001b[0m 52ms/step - accuracy: 0.6117 - loss: 1.0273 - val_accuracy: 0.6374 - val_loss: 0.9804 - learning_rate: 4.0000e-05\n",
            "Epoch 35/50\n",
            "\u001b[1m451/451\u001b[0m \u001b[32m━━━━━━━━━━━━━━━━━━━━\u001b[0m\u001b[37m\u001b[0m \u001b[1m0s\u001b[0m 45ms/step - accuracy: 0.6099 - loss: 1.0293\n",
            "Epoch 35: ReduceLROnPlateau reducing learning rate to 8.000000525498762e-06.\n",
            "\u001b[1m451/451\u001b[0m \u001b[32m━━━━━━━━━━━━━━━━━━━━\u001b[0m\u001b[37m\u001b[0m \u001b[1m23s\u001b[0m 50ms/step - accuracy: 0.6099 - loss: 1.0293 - val_accuracy: 0.6378 - val_loss: 0.9814 - learning_rate: 4.0000e-05\n",
            "Epoch 36/50\n",
            "\u001b[1m451/451\u001b[0m \u001b[32m━━━━━━━━━━━━━━━━━━━━\u001b[0m\u001b[37m\u001b[0m \u001b[1m41s\u001b[0m 52ms/step - accuracy: 0.6120 - loss: 1.0234 - val_accuracy: 0.6421 - val_loss: 0.9749 - learning_rate: 8.0000e-06\n",
            "Epoch 37/50\n",
            "\u001b[1m451/451\u001b[0m \u001b[32m━━━━━━━━━━━━━━━━━━━━\u001b[0m\u001b[37m\u001b[0m \u001b[1m23s\u001b[0m 51ms/step - accuracy: 0.6145 - loss: 1.0201 - val_accuracy: 0.6418 - val_loss: 0.9758 - learning_rate: 8.0000e-06\n",
            "Epoch 38/50\n",
            "\u001b[1m451/451\u001b[0m \u001b[32m━━━━━━━━━━━━━━━━━━━━\u001b[0m\u001b[37m\u001b[0m \u001b[1m23s\u001b[0m 50ms/step - accuracy: 0.6128 - loss: 1.0355 - val_accuracy: 0.6386 - val_loss: 0.9786 - learning_rate: 8.0000e-06\n",
            "Epoch 39/50\n",
            "\u001b[1m451/451\u001b[0m \u001b[32m━━━━━━━━━━━━━━━━━━━━\u001b[0m\u001b[37m\u001b[0m \u001b[1m23s\u001b[0m 52ms/step - accuracy: 0.6083 - loss: 1.0325 - val_accuracy: 0.6419 - val_loss: 0.9744 - learning_rate: 8.0000e-06\n",
            "Epoch 40/50\n",
            "\u001b[1m451/451\u001b[0m \u001b[32m━━━━━━━━━━━━━━━━━━━━\u001b[0m\u001b[37m\u001b[0m \u001b[1m24s\u001b[0m 52ms/step - accuracy: 0.6139 - loss: 1.0200 - val_accuracy: 0.6421 - val_loss: 0.9741 - learning_rate: 8.0000e-06\n",
            "Epoch 41/50\n",
            "\u001b[1m451/451\u001b[0m \u001b[32m━━━━━━━━━━━━━━━━━━━━\u001b[0m\u001b[37m\u001b[0m \u001b[1m23s\u001b[0m 50ms/step - accuracy: 0.6140 - loss: 1.0298 - val_accuracy: 0.6376 - val_loss: 0.9789 - learning_rate: 8.0000e-06\n",
            "Epoch 42/50\n",
            "\u001b[1m451/451\u001b[0m \u001b[32m━━━━━━━━━━━━━━━━━━━━\u001b[0m\u001b[37m\u001b[0m \u001b[1m23s\u001b[0m 51ms/step - accuracy: 0.6167 - loss: 1.0178 - val_accuracy: 0.6418 - val_loss: 0.9754 - learning_rate: 8.0000e-06\n",
            "Epoch 43/50\n",
            "\u001b[1m451/451\u001b[0m \u001b[32m━━━━━━━━━━━━━━━━━━━━\u001b[0m\u001b[37m\u001b[0m \u001b[1m0s\u001b[0m 47ms/step - accuracy: 0.6109 - loss: 1.0205\n",
            "Epoch 43: ReduceLROnPlateau reducing learning rate to 1.6000001778593287e-06.\n",
            "\u001b[1m451/451\u001b[0m \u001b[32m━━━━━━━━━━━━━━━━━━━━\u001b[0m\u001b[37m\u001b[0m \u001b[1m23s\u001b[0m 51ms/step - accuracy: 0.6109 - loss: 1.0205 - val_accuracy: 0.6414 - val_loss: 0.9758 - learning_rate: 8.0000e-06\n",
            "Epoch 44/50\n",
            "\u001b[1m451/451\u001b[0m \u001b[32m━━━━━━━━━━━━━━━━━━━━\u001b[0m\u001b[37m\u001b[0m \u001b[1m24s\u001b[0m 53ms/step - accuracy: 0.6178 - loss: 1.0172 - val_accuracy: 0.6412 - val_loss: 0.9748 - learning_rate: 1.6000e-06\n",
            "Epoch 45/50\n",
            "\u001b[1m451/451\u001b[0m \u001b[32m━━━━━━━━━━━━━━━━━━━━\u001b[0m\u001b[37m\u001b[0m \u001b[1m23s\u001b[0m 50ms/step - accuracy: 0.6169 - loss: 1.0293 - val_accuracy: 0.6424 - val_loss: 0.9748 - learning_rate: 1.6000e-06\n"
          ]
        }
      ]
    },
    {
      "cell_type": "code",
      "source": [
        "# 6. Evaluation - Classification Report & Confusion Matrix\n",
        "val_images, val_labels = next(validation_generator)\n",
        "predictions = model.predict(val_images)\n",
        "y_true = np.argmax(val_labels, axis=1)\n",
        "y_pred = np.argmax(predictions, axis=1)\n",
        "\n",
        "print(classification_report(y_true, y_pred, target_names=class_names))\n",
        "\n",
        "cm = confusion_matrix(y_true, y_pred)\n",
        "plt.figure(figsize=(8, 6))\n",
        "sns.heatmap(cm, annot=True, fmt='d', cmap='Blues', xticklabels=class_names, yticklabels=class_names)\n",
        "plt.xlabel('Predicted')\n",
        "plt.ylabel('Actual')\n",
        "plt.title('Confusion Matrix')\n",
        "plt.show()"
      ],
      "metadata": {
        "id": "_VPGMfhW2kTq",
        "colab": {
          "base_uri": "https://localhost:8080/",
          "height": 824
        },
        "outputId": "4363246f-b0bf-496e-9b39-8d7a73c7f517"
      },
      "execution_count": 10,
      "outputs": [
        {
          "output_type": "stream",
          "name": "stdout",
          "text": [
            "\u001b[1m2/2\u001b[0m \u001b[32m━━━━━━━━━━━━━━━━━━━━\u001b[0m\u001b[37m\u001b[0m \u001b[1m1s\u001b[0m 16ms/step \n",
            "              precision    recall  f1-score   support\n",
            "\n",
            "       angry       0.50      0.71      0.59         7\n",
            "     disgust       0.50      0.50      0.50         2\n",
            "        fear       0.43      0.27      0.33        11\n",
            "       happy       0.94      1.00      0.97        15\n",
            "     neutral       0.71      0.62      0.67         8\n",
            "         sad       0.50      0.50      0.50        10\n",
            "    surprise       0.83      0.91      0.87        11\n",
            "\n",
            "    accuracy                           0.69        64\n",
            "   macro avg       0.63      0.65      0.63        64\n",
            "weighted avg       0.67      0.69      0.67        64\n",
            "\n"
          ]
        },
        {
          "output_type": "display_data",
          "data": {
            "text/plain": [
              "<Figure size 800x600 with 2 Axes>"
            ],
            "image/png": "[encoded data removed]"
          },
          "metadata": {}
        }
      ]
    },
    {
      "cell_type": "code",
      "source": [
        "import matplotlib.pyplot as plt\n",
        "from tensorflow.keras.preprocessing import image\n",
        "import numpy as np\n",
        "\n",
        "def detect_emotion(image_path):\n",
        "    img = image.load_img(image_path, target_size=(48, 48), color_mode='grayscale')\n",
        "    img_array = image.img_to_array(img) / 255.0\n",
        "    img_array = np.expand_dims(img_array, axis=0)\n",
        "\n",
        "    prediction = model.predict(img_array)\n",
        "    predicted_index = np.argmax(prediction)\n",
        "    predicted_class = class_names[predicted_index]\n",
        "    confidence = round(prediction[0][predicted_index] * 100, 2)  # Confidence in %\n",
        "\n",
        "    # Display the image with the predicted label and confidence\n",
        "    plt.imshow(img, cmap='gray')\n",
        "    plt.title(f'Predicted Emotion: {predicted_class} ({confidence}%)')\n",
        "    plt.axis('off')\n",
        "    plt.show()\n",
        "\n",
        "    return predicted_class, confidence\n",
        "\n",
        "# Example Detection\n",
        "predicted_emotion, confidence = detect_emotion('/content/face-expression-recognition-dataset/images/images/train/angry/0.jpg')\n",
        "print(f\"Emotion: {predicted_emotion}, Confidence: {confidence}%\")"
      ],
      "metadata": {
        "id": "8y01IcL72s1S",
        "colab": {
          "base_uri": "https://localhost:8080/",
          "height": 463
        },
        "outputId": "c9e3c912-5749-4a72-8c30-63949abefa12"
      },
      "execution_count": 11,
      "outputs": [
        {
          "output_type": "stream",
          "name": "stdout",
          "text": [
            "\u001b[1m1/1\u001b[0m \u001b[32m━━━━━━━━━━━━━━━━━━━━\u001b[0m\u001b[37m\u001b[0m \u001b[1m1s\u001b[0m 678ms/step\n"
          ]
        },
        {
          "output_type": "display_data",
          "data": {
            "text/plain": [
              "<Figure size 640x480 with 1 Axes>"
            ],
            "image/png": "[encoded data removed]"
          },
          "metadata": {}
        },
        {
          "output_type": "stream",
          "name": "stdout",
          "text": [
            "Emotion: angry, Confidence: 49.29999923706055%\n"
          ]
        }
      ]
    },
    {
      "cell_type": "code",
      "source": [
        "\n",
        "# Example Detection\n",
        "print(detect_emotion('/content/face-expression-recognition-dataset/images/images/train/happy/10000.jpg'))"
      ],
      "metadata": {
        "id": "WWbT7XrE3MG5",
        "colab": {
          "base_uri": "https://localhost:8080/",
          "height": 463
        },
        "outputId": "4db1ba75-ee68-4713-dfb4-3893084cf803"
      },
      "execution_count": 13,
      "outputs": [
        {
          "output_type": "stream",
          "name": "stdout",
          "text": [
            "\u001b[1m1/1\u001b[0m \u001b[32m━━━━━━━━━━━━━━━━━━━━\u001b[0m\u001b[37m\u001b[0m \u001b[1m0s\u001b[0m 75ms/step\n"
          ]
        },
        {
          "output_type": "display_data",
          "data": {
            "text/plain": [
              "<Figure size 640x480 with 1 Axes>"
            ],
            "image/png": "[encoded data removed]"
          },
          "metadata": {}
        },
        {
          "output_type": "stream",
          "name": "stdout",
          "text": [
            "('happy', np.float32(97.67))\n"
          ]
        }
      ]
    },
    {
      "cell_type": "code",
      "source": [
        "# 8. Save Model\n",
        "model.save('facial_emotion_detection_model.h5')"
      ],
      "metadata": {
        "id": "tegqsDwu3hk5",
        "colab": {
          "base_uri": "https://localhost:8080/"
        },
        "outputId": "ad6204d2-35a0-4aa3-aa2d-06974492d8ad"
      },
      "execution_count": 14,
      "outputs": [
        {
          "output_type": "stream",
          "name": "stderr",
          "text": [
            "WARNING:absl:You are saving your model as an HDF5 file via `model.save()` or `keras.saving.save_model(model)`. This file format is considered legacy. We recommend using instead the native Keras format, e.g. `model.save('my_model.keras')` or `keras.saving.save_model(model, 'my_model.keras')`. \n"
          ]
        }
      ]
    },
    {
      "cell_type": "code",
      "source": [
        "class_names"
      ],
      "metadata": {
        "id": "FToqdcto3lYY",
        "colab": {
          "base_uri": "https://localhost:8080/"
        },
        "outputId": "f83db008-13ee-4bbf-dfd4-5f7bde7deec3"
      },
      "execution_count": 15,
      "outputs": [
        {
          "output_type": "execute_result",
          "data": {
            "text/plain": [
              "['angry', 'disgust', 'fear', 'happy', 'neutral', 'sad', 'surprise']"
            ]
          },
          "metadata": {},
          "execution_count": 15
        }
      ]
    },
    {
      "cell_type": "markdown",
      "metadata": {
        "id": "e2b1ca14"
      },
      "source": [
        "# Task\n",
        "Create a web application with a user-friendly front-end for emotion detection using the provided Python code, integrating the front-end and back-end seamlessly without errors."
      ]
    },
    {
      "cell_type": "markdown",
      "metadata": {
        "id": "5edca748"
      },
      "source": [
        "## Choose a web framework\n",
        "\n",
        "### Subtask:\n",
        "Select a suitable web framework (e.g., Flask, Django, or Streamlit) to build the front-end.\n"
      ]
    },
    {
      "cell_type": "markdown",
      "metadata": {
        "id": "ef4eda94"
      },
      "source": [
        "## Design the user interface\n",
        "\n",
        "### Subtask:\n",
        "Design the user interface for the web application using Streamlit.\n"
      ]
    },
    {
      "cell_type": "markdown",
      "metadata": {
        "id": "14badd0d"
      },
      "source": [
        "**Reasoning**:\n",
        "Design the user interface for the web application using Streamlit by setting the title, adding a description, creating a file uploader, and adding placeholders for the image and prediction results.\n",
        "\n"
      ]
    },
    {
      "cell_type": "code",
      "metadata": {
        "colab": {
          "base_uri": "https://localhost:8080/",
          "height": 383
        },
        "id": "10cf1581",
        "outputId": "1a34e021-6a1e-4392-d841-8773b164a498"
      },
      "source": [
        "import streamlit as st\n",
        "\n",
        "# 1. Set the title\n",
        "st.title(\"Facial Emotion Detection App\")\n",
        "\n",
        "# 2. Add a brief description\n",
        "st.write(\"Upload an image to detect the facial emotion.\")\n",
        "\n",
        "# 4. Create a file uploader widget\n",
        "uploaded_file = st.file_uploader(\"Choose an image...\", type=[\"jpg\", \"jpeg\", \"png\"])\n",
        "\n",
        "# 5. Add a section or placeholder where the uploaded image will be displayed.\n",
        "# 7. Create a section or placeholder where the predicted emotion and confidence level will be displayed.\n",
        "# These will be populated later when an image is uploaded and processed.\n",
        "image_placeholder = st.empty()\n",
        "prediction_placeholder = st.empty()\n",
        "\n",
        "# 6. Include a button or trigger that the user will click to initiate the emotion detection process.\n",
        "# The detection logic will be added after the button is clicked.\n",
        "if uploaded_file is not None:\n",
        "    image_placeholder.image(uploaded_file, caption=\"Uploaded Image.\", use_column_width=True)\n",
        "    # Add a button to trigger prediction\n",
        "    if st.button(\"Detect Emotion\"):\n",
        "        # The emotion detection logic will go here in a later step\n",
        "        prediction_placeholder.write(\"Detecting emotion...\")\n"
      ],
      "execution_count": 16,
      "outputs": [
        {
          "output_type": "error",
          "ename": "ModuleNotFoundError",
          "evalue": "No module named 'streamlit'",
          "traceback": [
            "\u001b[0;31m---------------------------------------------------------------------------\u001b[0m",
            "\u001b[0;31mModuleNotFoundError\u001b[0m                       Traceback (most recent call last)",
            "\u001b[0;32m/tmp/ipython-input-1170624712.py\u001b[0m in \u001b[0;36m<cell line: 0>\u001b[0;34m()\u001b[0m\n\u001b[0;32m----> 1\u001b[0;31m \u001b[0;32mimport\u001b[0m \u001b[0mstreamlit\u001b[0m \u001b[0;32mas\u001b[0m \u001b[0mst\u001b[0m\u001b[0;34m\u001b[0m\u001b[0;34m\u001b[0m\u001b[0m\n\u001b[0m\u001b[1;32m      2\u001b[0m \u001b[0;34m\u001b[0m\u001b[0m\n\u001b[1;32m      3\u001b[0m \u001b[0;31m# 1. Set the title\u001b[0m\u001b[0;34m\u001b[0m\u001b[0;34m\u001b[0m\u001b[0m\n\u001b[1;32m      4\u001b[0m \u001b[0mst\u001b[0m\u001b[0;34m.\u001b[0m\u001b[0mtitle\u001b[0m\u001b[0;34m(\u001b[0m\u001b[0;34m\"Facial Emotion Detection App\"\u001b[0m\u001b[0;34m)\u001b[0m\u001b[0;34m\u001b[0m\u001b[0;34m\u001b[0m\u001b[0m\n\u001b[1;32m      5\u001b[0m \u001b[0;34m\u001b[0m\u001b[0m\n",
            "\u001b[0;31mModuleNotFoundError\u001b[0m: No module named 'streamlit'",
            "",
            "\u001b[0;31m---------------------------------------------------------------------------\u001b[0;32m\nNOTE: If your import is failing due to a missing package, you can\nmanually install dependencies using either !pip or !apt.\n\nTo view examples of installing some common dependencies, click the\n\"Open Examples\" button below.\n\u001b[0;31m---------------------------------------------------------------------------\u001b[0m\n"
          ],
          "errorDetails": {
            "actions": [
              {
                "action": "open_url",
                "actionText": "Open Examples",
                "url": "/notebooks/snippets/importing_libraries.ipynb"
              }
            ]
          }
        }
      ]
    },
    {
      "cell_type": "markdown",
      "metadata": {
        "id": "7af5346d"
      },
      "source": [
        "**Reasoning**:\n",
        "The previous command failed because the `streamlit` library is not installed. Install `streamlit` using pip.\n",
        "\n"
      ]
    },
    {
      "cell_type": "code",
      "metadata": {
        "colab": {
          "base_uri": "https://localhost:8080/"
        },
        "id": "brGuADQsTzwL",
        "outputId": "d817447e-333d-49d7-a0b2-fb5f5bb46730"
      },
      "source": [
        "!pip install streamlit"
      ],
      "execution_count": 17,
      "outputs": [
        {
          "output_type": "stream",
          "name": "stdout",
          "text": [
            "Collecting streamlit\n",
            "  Downloading streamlit-1.49.1-py3-none-any.whl.metadata (9.5 kB)\n",
            "Requirement already satisfied: altair!=5.4.0,!=5.4.1,<6,>=4.0 in /usr/local/lib/python3.12/dist-packages (from streamlit) (5.5.0)\n",
            "Requirement already satisfied: blinker<2,>=1.5.0 in /usr/local/lib/python3.12/dist-packages (from streamlit) (1.9.0)\n",
            "Requirement already satisfied: cachetools<7,>=4.0 in /usr/local/lib/python3.12/dist-packages (from streamlit) (5.5.2)\n",
            "Requirement already satisfied: click<9,>=7.0 in /usr/local/lib/python3.12/dist-packages (from streamlit) (8.2.1)\n",
            "Requirement already satisfied: numpy<3,>=1.23 in /usr/local/lib/python3.12/dist-packages (from streamlit) (2.0.2)\n",
            "Requirement already satisfied: packaging<26,>=20 in /usr/local/lib/python3.12/dist-packages (from streamlit) (25.0)\n",
            "Requirement already satisfied: pandas<3,>=1.4.0 in /usr/local/lib/python3.12/dist-packages (from streamlit) (2.2.2)\n",
            "Requirement already satisfied: pillow<12,>=7.1.0 in /usr/local/lib/python3.12/dist-packages (from streamlit) (11.3.0)\n",
            "Requirement already satisfied: protobuf<7,>=3.20 in /usr/local/lib/python3.12/dist-packages (from streamlit) (5.29.5)\n",
            "Requirement already satisfied: pyarrow>=7.0 in /usr/local/lib/python3.12/dist-packages (from streamlit) (18.1.0)\n",
            "Requirement already satisfied: requests<3,>=2.27 in /usr/local/lib/python3.12/dist-packages (from streamlit) (2.32.4)\n",
            "Requirement already satisfied: tenacity<10,>=8.1.0 in /usr/local/lib/python3.12/dist-packages (from streamlit) (8.5.0)\n",
            "Requirement already satisfied: toml<2,>=0.10.1 in /usr/local/lib/python3.12/dist-packages (from streamlit) (0.10.2)\n",
            "Requirement already satisfied: typing-extensions<5,>=4.4.0 in /usr/local/lib/python3.12/dist-packages (from streamlit) (4.15.0)\n",
            "Requirement already satisfied: watchdog<7,>=2.1.5 in /usr/local/lib/python3.12/dist-packages (from streamlit) (6.0.0)\n",
            "Requirement already satisfied: gitpython!=3.1.19,<4,>=3.0.7 in /usr/local/lib/python3.12/dist-packages (from streamlit) (3.1.45)\n",
            "Collecting pydeck<1,>=0.8.0b4 (from streamlit)\n",
            "  Downloading pydeck-0.9.1-py2.py3-none-any.whl.metadata (4.1 kB)\n",
            "Requirement already satisfied: tornado!=6.5.0,<7,>=6.0.3 in /usr/local/lib/python3.12/dist-packages (from streamlit) (6.4.2)\n",
            "Requirement already satisfied: jinja2 in /usr/local/lib/python3.12/dist-packages (from altair!=5.4.0,!=5.4.1,<6,>=4.0->streamlit) (3.1.6)\n",
            "Requirement already satisfied: jsonschema>=3.0 in /usr/local/lib/python3.12/dist-packages (from altair!=5.4.0,!=5.4.1,<6,>=4.0->streamlit) (4.25.1)\n",
            "Requirement already satisfied: narwhals>=1.14.2 in /usr/local/lib/python3.12/dist-packages (from altair!=5.4.0,!=5.4.1,<6,>=4.0->streamlit) (2.2.0)\n",
            "Requirement already satisfied: gitdb<5,>=4.0.1 in /usr/local/lib/python3.12/dist-packages (from gitpython!=3.1.19,<4,>=3.0.7->streamlit) (4.0.12)\n",
            "Requirement already satisfied: python-dateutil>=2.8.2 in /usr/local/lib/python3.12/dist-packages (from pandas<3,>=1.4.0->streamlit) (2.9.0.post0)\n",
            "Requirement already satisfied: pytz>=2020.1 in /usr/local/lib/python3.12/dist-packages (from pandas<3,>=1.4.0->streamlit) (2025.2)\n",
            "Requirement already satisfied: tzdata>=2022.7 in /usr/local/lib/python3.12/dist-packages (from pandas<3,>=1.4.0->streamlit) (2025.2)\n",
            "Requirement already satisfied: charset_normalizer<4,>=2 in /usr/local/lib/python3.12/dist-packages (from requests<3,>=2.27->streamlit) (3.4.3)\n",
            "Requirement already satisfied: idna<4,>=2.5 in /usr/local/lib/python3.12/dist-packages (from requests<3,>=2.27->streamlit) (3.10)\n",
            "Requirement already satisfied: urllib3<3,>=1.21.1 in /usr/local/lib/python3.12/dist-packages (from requests<3,>=2.27->streamlit) (2.5.0)\n",
            "Requirement already satisfied: certifi>=2017.4.17 in /usr/local/lib/python3.12/dist-packages (from requests<3,>=2.27->streamlit) (2025.8.3)\n",
            "Requirement already satisfied: smmap<6,>=3.0.1 in /usr/local/lib/python3.12/dist-packages (from gitdb<5,>=4.0.1->gitpython!=3.1.19,<4,>=3.0.7->streamlit) (5.0.2)\n",
            "Requirement already satisfied: MarkupSafe>=2.0 in /usr/local/lib/python3.12/dist-packages (from jinja2->altair!=5.4.0,!=5.4.1,<6,>=4.0->streamlit) (3.0.2)\n",
            "Requirement already satisfied: attrs>=22.2.0 in /usr/local/lib/python3.12/dist-packages (from jsonschema>=3.0->altair!=5.4.0,!=5.4.1,<6,>=4.0->streamlit) (25.3.0)\n",
            "Requirement already satisfied: jsonschema-specifications>=2023.03.6 in /usr/local/lib/python3.12/dist-packages (from jsonschema>=3.0->altair!=5.4.0,!=5.4.1,<6,>=4.0->streamlit) (2025.4.1)\n",
            "Requirement already satisfied: referencing>=0.28.4 in /usr/local/lib/python3.12/dist-packages (from jsonschema>=3.0->altair!=5.4.0,!=5.4.1,<6,>=4.0->streamlit) (0.36.2)\n",
            "Requirement already satisfied: rpds-py>=0.7.1 in /usr/local/lib/python3.12/dist-packages (from jsonschema>=3.0->altair!=5.4.0,!=5.4.1,<6,>=4.0->streamlit) (0.27.0)\n",
            "Requirement already satisfied: six>=1.5 in /usr/local/lib/python3.12/dist-packages (from python-dateutil>=2.8.2->pandas<3,>=1.4.0->streamlit) (1.17.0)\n",
            "Downloading streamlit-1.49.1-py3-none-any.whl (10.0 MB)\n",
            "\u001b[2K   \u001b[90m━━━━━━━━━━━━━━━━━━━━━━━━━━━━━━━━━━━━━━━━\u001b[0m \u001b[32m10.0/10.0 MB\u001b[0m \u001b[31m95.0 MB/s\u001b[0m eta \u001b[36m0:00:00\u001b[0m\n",
            "\u001b[?25hDownloading pydeck-0.9.1-py2.py3-none-any.whl (6.9 MB)\n",
            "\u001b[2K   \u001b[90m━━━━━━━━━━━━━━━━━━━━━━━━━━━━━━━━━━━━━━━━\u001b[0m \u001b[32m6.9/6.9 MB\u001b[0m \u001b[31m137.5 MB/s\u001b[0m eta \u001b[36m0:00:00\u001b[0m\n",
            "\u001b[?25hInstalling collected packages: pydeck, streamlit\n",
            "Successfully installed pydeck-0.9.1 streamlit-1.49.1\n"
          ]
        }
      ]
    },
    {
      "cell_type": "markdown",
      "metadata": {
        "id": "ba5df835"
      },
      "source": [
        "**Reasoning**:\n",
        "Now that streamlit is installed, retry the previous code block to design the user interface for the web application.\n",
        "\n"
      ]
    },
    {
      "cell_type": "code",
      "metadata": {
        "colab": {
          "base_uri": "https://localhost:8080/"
        },
        "id": "a522dc63",
        "outputId": "3d511805-f455-48d8-da25-455f0a7f7ac5"
      },
      "source": [
        "import streamlit as st\n",
        "\n",
        "# 1. Set the title\n",
        "st.title(\"Facial Emotion Detection App\")\n",
        "\n",
        "# 2. Add a brief description\n",
        "st.write(\"Upload an image to detect the facial emotion.\")\n",
        "\n",
        "# 4. Create a file uploader widget\n",
        "uploaded_file = st.file_uploader(\"Choose an image...\", type=[\"jpg\", \"jpeg\", \"png\"])\n",
        "\n",
        "# 5. Add a section or placeholder where the uploaded image will be displayed.\n",
        "# 7. Create a section or placeholder where the predicted emotion and confidence level will be displayed.\n",
        "# These will be populated later when an image is uploaded and processed.\n",
        "image_placeholder = st.empty()\n",
        "prediction_placeholder = st.empty()\n",
        "\n",
        "# 6. Include a button or trigger that the user will click to initiate the emotion detection process.\n",
        "# The detection logic will be added after the button is clicked.\n",
        "if uploaded_file is not None:\n",
        "    image_placeholder.image(uploaded_file, caption=\"Uploaded Image.\", use_column_width=True)\n",
        "    # Add a button to trigger prediction\n",
        "    if st.button(\"Detect Emotion\"):\n",
        "        # The emotion detection logic will go here in a later step\n",
        "        prediction_placeholder.write(\"Detecting emotion...\")"
      ],
      "execution_count": 18,
      "outputs": [
        {
          "output_type": "stream",
          "name": "stderr",
          "text": [
            "2025-09-03 11:20:55.902 WARNING streamlit.runtime.scriptrunner_utils.script_run_context: Thread 'MainThread': missing ScriptRunContext! This warning can be ignored when running in bare mode.\n",
            "2025-09-03 11:20:56.549 \n",
            "  \u001b[33m\u001b[1mWarning:\u001b[0m to view this Streamlit app on a browser, run it with the following\n",
            "  command:\n",
            "\n",
            "    streamlit run /usr/local/lib/python3.12/dist-packages/colab_kernel_launcher.py [ARGUMENTS]\n",
            "2025-09-03 11:20:56.550 Thread 'MainThread': missing ScriptRunContext! This warning can be ignored when running in bare mode.\n",
            "2025-09-03 11:20:56.551 Thread 'MainThread': missing ScriptRunContext! This warning can be ignored when running in bare mode.\n",
            "2025-09-03 11:20:56.552 Thread 'MainThread': missing ScriptRunContext! This warning can be ignored when running in bare mode.\n",
            "2025-09-03 11:20:56.553 Thread 'MainThread': missing ScriptRunContext! This warning can be ignored when running in bare mode.\n",
            "2025-09-03 11:20:56.554 Thread 'MainThread': missing ScriptRunContext! This warning can be ignored when running in bare mode.\n",
            "2025-09-03 11:20:56.555 Thread 'MainThread': missing ScriptRunContext! This warning can be ignored when running in bare mode.\n",
            "2025-09-03 11:20:56.556 Thread 'MainThread': missing ScriptRunContext! This warning can be ignored when running in bare mode.\n",
            "2025-09-03 11:20:56.557 Thread 'MainThread': missing ScriptRunContext! This warning can be ignored when running in bare mode.\n",
            "2025-09-03 11:20:56.558 Thread 'MainThread': missing ScriptRunContext! This warning can be ignored when running in bare mode.\n",
            "2025-09-03 11:20:56.558 Thread 'MainThread': missing ScriptRunContext! This warning can be ignored when running in bare mode.\n",
            "2025-09-03 11:20:56.559 Thread 'MainThread': missing ScriptRunContext! This warning can be ignored when running in bare mode.\n",
            "2025-09-03 11:20:56.560 Thread 'MainThread': missing ScriptRunContext! This warning can be ignored when running in bare mode.\n",
            "2025-09-03 11:20:56.561 Thread 'MainThread': missing ScriptRunContext! This warning can be ignored when running in bare mode.\n",
            "2025-09-03 11:20:56.562 Thread 'MainThread': missing ScriptRunContext! This warning can be ignored when running in bare mode.\n",
            "2025-09-03 11:20:56.563 Thread 'MainThread': missing ScriptRunContext! This warning can be ignored when running in bare mode.\n",
            "2025-09-03 11:20:56.564 Thread 'MainThread': missing ScriptRunContext! This warning can be ignored when running in bare mode.\n",
            "2025-09-03 11:20:56.564 Thread 'MainThread': missing ScriptRunContext! This warning can be ignored when running in bare mode.\n"
          ]
        }
      ]
    },
    {
      "cell_type": "markdown",
      "metadata": {
        "id": "e33f0619"
      },
      "source": [
        "## Set up the backend\n",
        "\n",
        "### Subtask:\n",
        "Create Python scripts using the chosen framework (Streamlit) to handle image uploads, preprocess the images, and pass them to the trained model for prediction.\n"
      ]
    },
    {
      "cell_type": "markdown",
      "metadata": {
        "id": "e43e4008"
      },
      "source": [
        "**Reasoning**:\n",
        "Create a Python script to handle image preprocessing for the Streamlit application.\n",
        "\n"
      ]
    },
    {
      "cell_type": "code",
      "metadata": {
        "id": "2120ed99"
      },
      "source": [
        "import streamlit as st\n",
        "import numpy as np\n",
        "from PIL import Image\n",
        "import tensorflow as tf\n",
        "\n",
        "def load_and_preprocess_image(uploaded_file):\n",
        "    \"\"\"\n",
        "    Loads, preprocesses, and returns an image array for model prediction.\n",
        "\n",
        "    Args:\n",
        "        uploaded_file: The file object uploaded via Streamlit's file_uploader.\n",
        "\n",
        "    Returns:\n",
        "        A NumPy array representing the preprocessed image, ready for model prediction.\n",
        "    \"\"\"\n",
        "    img = Image.open(uploaded_file)\n",
        "    img = img.convert('L') # Convert to grayscale\n",
        "    img = img.resize((48, 48)) # Resize to 48x48 pixels\n",
        "    img_array = np.array(img)\n",
        "    img_array = img_array / 255.0 # Normalize pixel values\n",
        "    img_array = np.expand_dims(img_array, axis=0) # Add batch dimension\n",
        "    img_array = np.expand_dims(img_array, axis=-1) # Add channel dimension for grayscale\n",
        "    return img_array\n",
        "\n",
        "# This part is for demonstrating the function within the notebook\n",
        "# In the actual Streamlit app, this function will be called when a file is uploaded.\n",
        "# To test this function in the notebook, you would need a dummy uploaded_file object.\n",
        "# Example (requires a dummy file):\n",
        "# with open(\"test_image.jpg\", \"rb\") as f:\n",
        "#     dummy_uploaded_file = f\n",
        "#     preprocessed_img = load_and_preprocess_image(dummy_uploaded_file)\n",
        "#     print(preprocessed_img.shape)"
      ],
      "execution_count": 19,
      "outputs": []
    },
    {
      "cell_type": "markdown",
      "metadata": {
        "id": "0b2d582b"
      },
      "source": [
        "**Reasoning**:\n",
        "The image preprocessing function has been defined. The next step is to integrate this function into the Streamlit UI script to handle uploaded images.\n",
        "\n"
      ]
    },
    {
      "cell_type": "code",
      "metadata": {
        "colab": {
          "base_uri": "https://localhost:8080/"
        },
        "id": "34f0c34b",
        "outputId": "ad4ceb46-5e9e-4d94-bb5c-cbdaea228811"
      },
      "source": [
        "import streamlit as st\n",
        "from PIL import Image\n",
        "import numpy as np\n",
        "import tensorflow as tf\n",
        "import os\n",
        "\n",
        "# Load the trained model\n",
        "# Ensure the model file path is correct\n",
        "try:\n",
        "    model = tf.keras.models.load_model('facial_emotion_detection_model.h5')\n",
        "except Exception as e:\n",
        "    st.error(f\"Error loading the model: {e}\")\n",
        "    st.stop()\n",
        "\n",
        "\n",
        "# Define the class names (assuming they are the same as during training)\n",
        "class_names = ['angry', 'disgust', 'fear', 'happy', 'neutral', 'sad', 'surprise']\n",
        "\n",
        "\n",
        "def load_and_preprocess_image(uploaded_file):\n",
        "    \"\"\"\n",
        "    Loads, preprocesses, and returns an image array for model prediction.\n",
        "\n",
        "    Args:\n",
        "        uploaded_file: The file object uploaded via Streamlit's file_uploader.\n",
        "\n",
        "    Returns:\n",
        "        A NumPy array representing the preprocessed image, ready for model prediction.\n",
        "    \"\"\"\n",
        "    img = Image.open(uploaded_file)\n",
        "    img = img.convert('L')  # Convert to grayscale\n",
        "    img = img.resize((48, 48))  # Resize to 48x48 pixels\n",
        "    img_array = np.array(img)\n",
        "    img_array = img_array / 255.0  # Normalize pixel values\n",
        "    img_array = np.expand_dims(img_array, axis=0)  # Add batch dimension\n",
        "    img_array = np.expand_dims(img_array, axis=-1)  # Add channel dimension for grayscale\n",
        "    return img_array\n",
        "\n",
        "# Streamlit UI\n",
        "st.title(\"Facial Emotion Detection App\")\n",
        "st.write(\"Upload an image to detect the facial emotion.\")\n",
        "\n",
        "uploaded_file = st.file_uploader(\"Choose an image...\", type=[\"jpg\", \"jpeg\", \"png\"])\n",
        "\n",
        "image_placeholder = st.empty()\n",
        "prediction_placeholder = st.empty()\n",
        "\n",
        "if uploaded_file is not None:\n",
        "    image_placeholder.image(uploaded_file, caption=\"Uploaded Image.\", use_column_width=True)\n",
        "    if st.button(\"Detect Emotion\"):\n",
        "        prediction_placeholder.write(\"Detecting emotion...\")\n",
        "        # Preprocess the uploaded image\n",
        "        preprocessed_img = load_and_preprocess_image(uploaded_file)\n",
        "\n",
        "        # Make prediction using the loaded model\n",
        "        predictions = model.predict(preprocessed_img)\n",
        "        predicted_index = np.argmax(predictions)\n",
        "        predicted_class = class_names[predicted_index]\n",
        "        confidence = round(predictions[0][predicted_index] * 100, 2) # Confidence in %\n",
        "\n",
        "        # Display the prediction result\n",
        "        prediction_placeholder.write(f\"**Predicted Emotion:** {predicted_class} with **Confidence:** {confidence}%\")\n"
      ],
      "execution_count": 20,
      "outputs": [
        {
          "output_type": "stream",
          "name": "stderr",
          "text": [
            "WARNING:absl:Compiled the loaded model, but the compiled metrics have yet to be built. `model.compile_metrics` will be empty until you train or evaluate the model.\n",
            "2025-09-03 11:21:30.799 Thread 'MainThread': missing ScriptRunContext! This warning can be ignored when running in bare mode.\n",
            "2025-09-03 11:21:30.799 Thread 'MainThread': missing ScriptRunContext! This warning can be ignored when running in bare mode.\n",
            "2025-09-03 11:21:30.800 Thread 'MainThread': missing ScriptRunContext! This warning can be ignored when running in bare mode.\n",
            "2025-09-03 11:21:30.802 Thread 'MainThread': missing ScriptRunContext! This warning can be ignored when running in bare mode.\n",
            "2025-09-03 11:21:30.804 Thread 'MainThread': missing ScriptRunContext! This warning can be ignored when running in bare mode.\n",
            "2025-09-03 11:21:30.806 Thread 'MainThread': missing ScriptRunContext! This warning can be ignored when running in bare mode.\n",
            "2025-09-03 11:21:30.812 Thread 'MainThread': missing ScriptRunContext! This warning can be ignored when running in bare mode.\n",
            "2025-09-03 11:21:30.815 Thread 'MainThread': missing ScriptRunContext! This warning can be ignored when running in bare mode.\n",
            "2025-09-03 11:21:30.821 Thread 'MainThread': missing ScriptRunContext! This warning can be ignored when running in bare mode.\n",
            "2025-09-03 11:21:30.824 Thread 'MainThread': missing ScriptRunContext! This warning can be ignored when running in bare mode.\n",
            "2025-09-03 11:21:30.828 Thread 'MainThread': missing ScriptRunContext! This warning can be ignored when running in bare mode.\n",
            "2025-09-03 11:21:30.832 Thread 'MainThread': missing ScriptRunContext! This warning can be ignored when running in bare mode.\n",
            "2025-09-03 11:21:30.835 Thread 'MainThread': missing ScriptRunContext! This warning can be ignored when running in bare mode.\n",
            "2025-09-03 11:21:30.839 Thread 'MainThread': missing ScriptRunContext! This warning can be ignored when running in bare mode.\n",
            "2025-09-03 11:21:30.843 Thread 'MainThread': missing ScriptRunContext! This warning can be ignored when running in bare mode.\n",
            "2025-09-03 11:21:30.847 Thread 'MainThread': missing ScriptRunContext! This warning can be ignored when running in bare mode.\n",
            "2025-09-03 11:21:30.851 Thread 'MainThread': missing ScriptRunContext! This warning can be ignored when running in bare mode.\n",
            "2025-09-03 11:21:30.853 Thread 'MainThread': missing ScriptRunContext! This warning can be ignored when running in bare mode.\n"
          ]
        }
      ]
    },
    {
      "cell_type": "markdown",
      "metadata": {
        "id": "6fcad40f"
      },
      "source": [
        "## Integrate the model\n",
        "\n",
        "### Subtask:\n",
        "Integrate the trained model into the backend application.\n"
      ]
    },
    {
      "cell_type": "markdown",
      "metadata": {
        "id": "d9260b2a"
      },
      "source": [
        "**Reasoning**:\n",
        "The trained model has been successfully loaded and the Streamlit script is set up to preprocess images and perform predictions. The next step is to save the Streamlit script to a file so it can be executed as a web application.\n",
        "\n"
      ]
    },
    {
      "cell_type": "code",
      "metadata": {
        "colab": {
          "base_uri": "https://localhost:8080/",
          "height": 106
        },
        "id": "7b6a9ed0",
        "outputId": "b5f92d44-3026-4d44-f27c-b2383b903a8f"
      },
      "source": [
        "# Save the Streamlit script to a file\n",
        "streamlit_script_content = \"\"\"\n",
        "import streamlit as st\n",
        "from PIL import Image\n",
        "import numpy as np\n",
        "import tensorflow as tf\n",
        "import os\n",
        "\n",
        "# Load the trained model\n",
        "# Ensure the model file path is correct\n",
        "try:\n",
        "    model = tf.keras.models.load_model('facial_emotion_detection_model.h5')\n",
        "except Exception as e:\n",
        "    st.error(f\"Error loading the model: {e}\")\n",
        "    st.stop()\n",
        "\n",
        "# Define the class names (assuming they are the same as during training)\n",
        "class_names = ['angry', 'disgust', 'fear', 'happy', 'neutral', 'sad', 'surprise']\n",
        "\n",
        "def load_and_preprocess_image(uploaded_file):\n",
        "    \"\"\"\n",
        "    Loads, preprocesses, and returns an image array for model prediction.\n",
        "\n",
        "    Args:\n",
        "        uploaded_file: The file object uploaded via Streamlit's file_uploader.\n",
        "\n",
        "    Returns:\n",
        "        A NumPy array representing the preprocessed image, ready for model prediction.\n",
        "    \"\"\"\n",
        "    img = Image.open(uploaded_file)\n",
        "    img = img.convert('L')  # Convert to grayscale\n",
        "    img = img.resize((48, 48))  # Resize to 48x48 pixels\n",
        "    img_array = np.array(img)\n",
        "    img_array = img_array / 255.0  # Normalize pixel values\n",
        "    img_array = np.expand_dims(img_array, axis=0)  # Add batch dimension\n",
        "    img_array = np.expand_dims(img_array, axis=-1)  # Add channel dimension for grayscale\n",
        "    return img_array\n",
        "\n",
        "# Streamlit UI\n",
        "st.title(\"Facial Emotion Detection App\")\n",
        "st.write(\"Upload an image to detect the facial emotion.\")\n",
        "\n",
        "uploaded_file = st.file_uploader(\"Choose an image...\", type=[\"jpg\", \"jpeg\", \"png\"])\n",
        "\n",
        "image_placeholder = st.empty()\n",
        "prediction_placeholder = st.empty()\n",
        "\n",
        "if uploaded_file is not None:\n",
        "    image_placeholder.image(uploaded_file, caption=\"Uploaded Image.\", use_column_width=True)\n",
        "    if st.button(\"Detect Emotion\"):\n",
        "        prediction_placeholder.write(\"Detecting emotion...\")\n",
        "        # Preprocess the uploaded image\n",
        "        preprocessed_img = load_and_preprocess_image(uploaded_file)\n",
        "\n",
        "        # Make prediction using the loaded model\n",
        "        predictions = model.predict(preprocessed_img)\n",
        "        predicted_index = np.argmax(predictions)\n",
        "        predicted_class = class_names[predicted_index]\n",
        "        confidence = round(predictions[0][predicted_index] * 100, 2) # Confidence in %\n",
        "\n",
        "        # Display the prediction result\n",
        "        prediction_placeholder.write(f\"**Predicted Emotion:** {predicted_class} with **Confidence:** {confidence}%\")\n",
        "\"\"\"\n",
        "\n",
        "with open(\"app.py\", \"w\") as f:\n",
        "    f.write(streamlit_script_content)"
      ],
      "execution_count": 21,
      "outputs": [
        {
          "output_type": "error",
          "ename": "IndentationError",
          "evalue": "unexpected indent (ipython-input-3152469340.py, line 22)",
          "traceback": [
            "\u001b[0;36m  File \u001b[0;32m\"/tmp/ipython-input-3152469340.py\"\u001b[0;36m, line \u001b[0;32m22\u001b[0m\n\u001b[0;31m    Loads, preprocesses, and returns an image array for model prediction.\u001b[0m\n\u001b[0m    ^\u001b[0m\n\u001b[0;31mIndentationError\u001b[0m\u001b[0;31m:\u001b[0m unexpected indent\n"
          ]
        }
      ]
    },
    {
      "cell_type": "markdown",
      "metadata": {
        "id": "359820b3"
      },
      "source": [
        "**Reasoning**:\n",
        "The previous code block failed due to an `IndentationError`. This is because the multiline string containing the Streamlit script has incorrect indentation. I need to fix the indentation within the string to match valid Python syntax.\n",
        "\n"
      ]
    },
    {
      "cell_type": "code",
      "metadata": {
        "colab": {
          "base_uri": "https://localhost:8080/",
          "height": 106
        },
        "id": "tcX2_MUkUJhI",
        "outputId": "ad3fd17c-1e26-4990-d4b6-4a4ba5b37988"
      },
      "source": [
        "# Save the Streamlit script to a file\n",
        "streamlit_script_content = \"\"\"\n",
        "import streamlit as st\n",
        "from PIL import Image\n",
        "import numpy as np\n",
        "import tensorflow as tf\n",
        "import os\n",
        "\n",
        "# Load the trained model\n",
        "# Ensure the model file path is correct\n",
        "try:\n",
        "    model = tf.keras.models.load_model('facial_emotion_detection_model.h5')\n",
        "except Exception as e:\n",
        "    st.error(f\"Error loading the model: {e}\")\n",
        "    st.stop()\n",
        "\n",
        "# Define the class names (assuming they are the same as during training)\n",
        "class_names = ['angry', 'disgust', 'fear', 'happy', 'neutral', 'sad', 'surprise']\n",
        "\n",
        "def load_and_preprocess_image(uploaded_file):\n",
        "    \"\"\"\n",
        "    Loads, preprocesses, and returns an image array for model prediction.\n",
        "\n",
        "    Args:\n",
        "        uploaded_file: The file object uploaded via Streamlit's file_uploader.\n",
        "\n",
        "    Returns:\n",
        "        A NumPy array representing the preprocessed image, ready for model prediction.\n",
        "    \"\"\"\n",
        "    img = Image.open(uploaded_file)\n",
        "    img = img.convert('L')  # Convert to grayscale\n",
        "    img = img.resize((48, 48))  # Resize to 48x48 pixels\n",
        "    img_array = np.array(img)\n",
        "    img_array = img_array / 255.0  # Normalize pixel values\n",
        "    img_array = np.expand_dims(img_array, axis=0)  # Add batch dimension\n",
        "    img_array = np.expand_dims(img_array, axis=-1)  # Add channel dimension for grayscale\n",
        "    return img_array\n",
        "\n",
        "# Streamlit UI\n",
        "st.title(\"Facial Emotion Detection App\")\n",
        "st.write(\"Upload an image to detect the facial emotion.\")\n",
        "\n",
        "uploaded_file = st.file_uploader(\"Choose an image...\", type=[\"jpg\", \"jpeg\", \"png\"])\n",
        "\n",
        "image_placeholder = st.empty()\n",
        "prediction_placeholder = st.empty()\n",
        "\n",
        "if uploaded_file is not None:\n",
        "    image_placeholder.image(uploaded_file, caption=\"Uploaded Image.\", use_column_width=True)\n",
        "    if st.button(\"Detect Emotion\"):\n",
        "        prediction_placeholder.write(\"Detecting emotion...\")\n",
        "        # Preprocess the uploaded image\n",
        "        preprocessed_img = load_and_preprocess_image(uploaded_file)\n",
        "\n",
        "        # Make prediction using the loaded model\n",
        "        predictions = model.predict(preprocessed_img)\n",
        "        predicted_index = np.argmax(predictions)\n",
        "        predicted_class = class_names[predicted_index]\n",
        "        confidence = round(predictions[0][predicted_index] * 100, 2) # Confidence in %\n",
        "\n",
        "        # Display the prediction result\n",
        "        prediction_placeholder.write(f\"**Predicted Emotion:** {predicted_class} with **Confidence:** {confidence}%\")\n",
        "\"\"\"\n",
        "\n",
        "with open(\"app.py\", \"w\") as f:\n",
        "    f.write(streamlit_script_content)"
      ],
      "execution_count": 22,
      "outputs": [
        {
          "output_type": "error",
          "ename": "IndentationError",
          "evalue": "unexpected indent (ipython-input-3152469340.py, line 22)",
          "traceback": [
            "\u001b[0;36m  File \u001b[0;32m\"/tmp/ipython-input-3152469340.py\"\u001b[0;36m, line \u001b[0;32m22\u001b[0m\n\u001b[0;31m    Loads, preprocesses, and returns an image array for model prediction.\u001b[0m\n\u001b[0m    ^\u001b[0m\n\u001b[0;31mIndentationError\u001b[0m\u001b[0;31m:\u001b[0m unexpected indent\n"
          ]
        }
      ]
    },
    {
      "cell_type": "markdown",
      "metadata": {
        "id": "bdb1d7ed"
      },
      "source": [
        "**Reasoning**:\n",
        "The previous code block still has an `IndentationError`. The triple quotes for the multiline string need to be at the beginning of the line, and all the content within the string should be left-aligned or indented consistently as valid Python code. I will fix the indentation of the multiline string itself.\n",
        "\n"
      ]
    },
    {
      "cell_type": "code",
      "metadata": {
        "colab": {
          "base_uri": "https://localhost:8080/",
          "height": 106
        },
        "id": "fqIrXnhYUNAB",
        "outputId": "c87c8d7c-33a7-4be7-eb82-3417bd7ee9c7"
      },
      "source": [
        "# Save the Streamlit script to a file\n",
        "streamlit_script_content = \"\"\"import streamlit as st\n",
        "from PIL import Image\n",
        "import numpy as np\n",
        "import tensorflow as tf\n",
        "import os\n",
        "\n",
        "# Load the trained model\n",
        "# Ensure the model file path is correct\n",
        "try:\n",
        "    model = tf.keras.models.load_model('facial_emotion_detection_model.h5')\n",
        "except Exception as e:\n",
        "    st.error(f\"Error loading the model: {e}\")\n",
        "    st.stop()\n",
        "\n",
        "# Define the class names (assuming they are the same as during training)\n",
        "class_names = ['angry', 'disgust', 'fear', 'happy', 'neutral', 'sad', 'surprise']\n",
        "\n",
        "def load_and_preprocess_image(uploaded_file):\n",
        "    \"\"\"\n",
        "    Loads, preprocesses, and returns an image array for model prediction.\n",
        "\n",
        "    Args:\n",
        "        uploaded_file: The file object uploaded via Streamlit's file_uploader.\n",
        "\n",
        "    Returns:\n",
        "        A NumPy array representing the preprocessed image, ready for model prediction.\n",
        "    \"\"\"\n",
        "    img = Image.open(uploaded_file)\n",
        "    img = img.convert('L')  # Convert to grayscale\n",
        "    img = img.resize((48, 48))  # Resize to 48x48 pixels\n",
        "    img_array = np.array(img)\n",
        "    img_array = img_array / 255.0  # Normalize pixel values\n",
        "    img_array = np.expand_dims(img_array, axis=0)  # Add batch dimension\n",
        "    img_array = np.expand_dims(img_array, axis=-1)  # Add channel dimension for grayscale\n",
        "    return img_array\n",
        "\n",
        "# Streamlit UI\n",
        "st.title(\"Facial Emotion Detection App\")\n",
        "st.write(\"Upload an image to detect the facial emotion.\")\n",
        "\n",
        "uploaded_file = st.file_uploader(\"Choose an image...\", type=[\"jpg\", \"jpeg\", \"png\"])\n",
        "\n",
        "image_placeholder = st.empty()\n",
        "prediction_placeholder = st.empty()\n",
        "\n",
        "if uploaded_file is not None:\n",
        "    image_placeholder.image(uploaded_file, caption=\"Uploaded Image.\", use_column_width=True)\n",
        "    if st.button(\"Detect Emotion\"):\n",
        "        prediction_placeholder.write(\"Detecting emotion...\")\n",
        "        # Preprocess the uploaded image\n",
        "        preprocessed_img = load_and_preprocess_image(uploaded_file)\n",
        "\n",
        "        # Make prediction using the loaded model\n",
        "        predictions = model.predict(preprocessed_img)\n",
        "        predicted_index = np.argmax(predictions)\n",
        "        predicted_class = class_names[predicted_index]\n",
        "        confidence = round(predictions[0][predicted_index] * 100, 2) # Confidence in %\n",
        "\n",
        "        # Display the prediction result\n",
        "        prediction_placeholder.write(f\"**Predicted Emotion:** {predicted_class} with **Confidence:** {confidence}%\")\n",
        "\"\"\"\n",
        "\n",
        "with open(\"app.py\", \"w\") as f:\n",
        "    f.write(streamlit_script_content)"
      ],
      "execution_count": 23,
      "outputs": [
        {
          "output_type": "error",
          "ename": "IndentationError",
          "evalue": "unexpected indent (ipython-input-2581841668.py, line 21)",
          "traceback": [
            "\u001b[0;36m  File \u001b[0;32m\"/tmp/ipython-input-2581841668.py\"\u001b[0;36m, line \u001b[0;32m21\u001b[0m\n\u001b[0;31m    Loads, preprocesses, and returns an image array for model prediction.\u001b[0m\n\u001b[0m    ^\u001b[0m\n\u001b[0;31mIndentationError\u001b[0m\u001b[0;31m:\u001b[0m unexpected indent\n"
          ]
        }
      ]
    },
    {
      "cell_type": "markdown",
      "metadata": {
        "id": "6d82dad9"
      },
      "source": [
        "**Reasoning**:\n",
        "The `IndentationError` persists. The issue is not with the indentation of the multiline string itself, but with how Python interprets the indentation within the string when writing it to a file. The code within the `load_and_preprocess_image` function and the `if uploaded_file is not None:` block needs to have the correct indentation relative to their parent blocks in the *string*. I will ensure the code within the string literal has the correct indentation.\n",
        "\n"
      ]
    },
    {
      "cell_type": "code",
      "metadata": {
        "id": "_gKVRuE1UQoO"
      },
      "source": [
        "# Save the Streamlit script to a file\n",
        "streamlit_script_content = \"\"\"\n",
        "import streamlit as st\n",
        "from PIL import Image\n",
        "import numpy as np\n",
        "import tensorflow as tf\n",
        "import os\n",
        "\n",
        "# Load the trained model\n",
        "# Ensure the model file path is correct\n",
        "try:\n",
        "    model = tf.keras.models.load_model('facial_emotion_detection_model.h5')\n",
        "except Exception as e:\n",
        "    st.error(f\"Error loading the model: {e}\")\n",
        "    st.stop()\n",
        "\n",
        "# Define the class names (assuming they are the same as during training)\n",
        "class_names = ['angry', 'disgust', 'fear', 'happy', 'neutral', 'sad', 'surprise']\n",
        "\n",
        "def load_and_preprocess_image(uploaded_file):\n",
        "    \\\"\\\"\\\"\n",
        "    Loads, preprocesses, and returns an image array for model prediction.\n",
        "\n",
        "    Args:\n",
        "        uploaded_file: The file object uploaded via Streamlit's file_uploader.\n",
        "\n",
        "    Returns:\n",
        "        A NumPy array representing the preprocessed image, ready for model prediction.\n",
        "    \\\"\\\"\\\"\n",
        "    img = Image.open(uploaded_file)\n",
        "    img = img.convert('L')  # Convert to grayscale\n",
        "    img = img.resize((48, 48))  # Resize to 48x48 pixels\n",
        "    img_array = np.array(img)\n",
        "    img_array = img_array / 255.0  # Normalize pixel values\n",
        "    img_array = np.expand_dims(img_array, axis=0)  # Add batch dimension\n",
        "    img_array = np.expand_dims(img_array, axis=-1)  # Add channel dimension for grayscale\n",
        "    return img_array\n",
        "\n",
        "# Streamlit UI\n",
        "st.title(\"Facial Emotion Detection App\")\n",
        "st.write(\"Upload an image to detect the facial emotion.\")\n",
        "\n",
        "uploaded_file = st.file_uploader(\"Choose an image...\", type=[\"jpg\", \"jpeg\", \"png\"])\n",
        "\n",
        "image_placeholder = st.empty()\n",
        "prediction_placeholder = st.empty()\n",
        "\n",
        "if uploaded_file is not None:\n",
        "    image_placeholder.image(uploaded_file, caption=\"Uploaded Image.\", use_column_width=True)\n",
        "    if st.button(\"Detect Emotion\"):\n",
        "        prediction_placeholder.write(\"Detecting emotion...\")\n",
        "        # Preprocess the uploaded image\n",
        "        preprocessed_img = load_and_preprocess_image(uploaded_file)\n",
        "\n",
        "        # Make prediction using the loaded model\n",
        "        predictions = model.predict(preprocessed_img)\n",
        "        predicted_index = np.argmax(predictions)\n",
        "        predicted_class = class_names[predicted_index]\n",
        "        confidence = round(predictions[0][predicted_index] * 100, 2) # Confidence in %\n",
        "\n",
        "        # Display the prediction result\n",
        "        prediction_placeholder.write(f\"**Predicted Emotion:** {predicted_class} with **Confidence:** {confidence}%\")\n",
        "\"\"\"\n",
        "\n",
        "with open(\"app.py\", \"w\") as f:\n",
        "    f.write(streamlit_script_content)"
      ],
      "execution_count": 24,
      "outputs": []
    },
    {
      "cell_type": "markdown",
      "metadata": {
        "id": "e1c40e2e"
      },
      "source": [
        "## Display results\n",
        "\n",
        "### Subtask:\n",
        "Display the prediction results (emotion and confidence) back to the user in the Streamlit front-end.\n"
      ]
    },
    {
      "cell_type": "markdown",
      "metadata": {
        "id": "a1fa4e59"
      },
      "source": [
        "**Reasoning**:\n",
        "Review the existing `app.py` script to confirm that the predicted emotion and confidence are being captured and displayed.\n",
        "\n"
      ]
    },
    {
      "cell_type": "code",
      "metadata": {
        "colab": {
          "base_uri": "https://localhost:8080/"
        },
        "id": "162778ed",
        "outputId": "5e21cee0-aedd-4813-c865-1d4db5f87dd3"
      },
      "source": [
        "# Review the content of app.py to ensure prediction results are handled.\n",
        "with open(\"app.py\", \"r\") as f:\n",
        "    app_content = f.read()\n",
        "print(app_content)"
      ],
      "execution_count": 25,
      "outputs": [
        {
          "output_type": "stream",
          "name": "stdout",
          "text": [
            "\n",
            "import streamlit as st\n",
            "from PIL import Image\n",
            "import numpy as np\n",
            "import tensorflow as tf\n",
            "import os\n",
            "\n",
            "# Load the trained model\n",
            "# Ensure the model file path is correct\n",
            "try:\n",
            "    model = tf.keras.models.load_model('facial_emotion_detection_model.h5')\n",
            "except Exception as e:\n",
            "    st.error(f\"Error loading the model: {e}\")\n",
            "    st.stop()\n",
            "\n",
            "# Define the class names (assuming they are the same as during training)\n",
            "class_names = ['angry', 'disgust', 'fear', 'happy', 'neutral', 'sad', 'surprise']\n",
            "\n",
            "def load_and_preprocess_image(uploaded_file):\n",
            "    \"\"\"\n",
            "    Loads, preprocesses, and returns an image array for model prediction.\n",
            "\n",
            "    Args:\n",
            "        uploaded_file: The file object uploaded via Streamlit's file_uploader.\n",
            "\n",
            "    Returns:\n",
            "        A NumPy array representing the preprocessed image, ready for model prediction.\n",
            "    \"\"\"\n",
            "    img = Image.open(uploaded_file)\n",
            "    img = img.convert('L')  # Convert to grayscale\n",
            "    img = img.resize((48, 48))  # Resize to 48x48 pixels\n",
            "    img_array = np.array(img)\n",
            "    img_array = img_array / 255.0  # Normalize pixel values\n",
            "    img_array = np.expand_dims(img_array, axis=0)  # Add batch dimension\n",
            "    img_array = np.expand_dims(img_array, axis=-1)  # Add channel dimension for grayscale\n",
            "    return img_array\n",
            "\n",
            "# Streamlit UI\n",
            "st.title(\"Facial Emotion Detection App\")\n",
            "st.write(\"Upload an image to detect the facial emotion.\")\n",
            "\n",
            "uploaded_file = st.file_uploader(\"Choose an image...\", type=[\"jpg\", \"jpeg\", \"png\"])\n",
            "\n",
            "image_placeholder = st.empty()\n",
            "prediction_placeholder = st.empty()\n",
            "\n",
            "if uploaded_file is not None:\n",
            "    image_placeholder.image(uploaded_file, caption=\"Uploaded Image.\", use_column_width=True)\n",
            "    if st.button(\"Detect Emotion\"):\n",
            "        prediction_placeholder.write(\"Detecting emotion...\")\n",
            "        # Preprocess the uploaded image\n",
            "        preprocessed_img = load_and_preprocess_image(uploaded_file)\n",
            "\n",
            "        # Make prediction using the loaded model\n",
            "        predictions = model.predict(preprocessed_img)\n",
            "        predicted_index = np.argmax(predictions)\n",
            "        predicted_class = class_names[predicted_index]\n",
            "        confidence = round(predictions[0][predicted_index] * 100, 2) # Confidence in %\n",
            "\n",
            "        # Display the prediction result\n",
            "        prediction_placeholder.write(f\"**Predicted Emotion:** {predicted_class} with **Confidence:** {confidence}%\")\n",
            "\n"
          ]
        }
      ]
    },
    {
      "cell_type": "markdown",
      "metadata": {
        "id": "36781914"
      },
      "source": [
        "## Handle errors and edge cases\n",
        "\n",
        "### Subtask:\n",
        "Implement error handling for invalid inputs, model loading issues, and other potential problems within the Streamlit application.\n"
      ]
    },
    {
      "cell_type": "markdown",
      "metadata": {
        "id": "89d48dae"
      },
      "source": [
        "**Reasoning**:\n",
        "Implement error handling in the Streamlit application to make it more robust.\n",
        "\n"
      ]
    },
    {
      "cell_type": "code",
      "metadata": {
        "colab": {
          "base_uri": "https://localhost:8080/"
        },
        "id": "5c8a4ba4",
        "outputId": "3889202c-6250-4777-ce01-345b35b624d6"
      },
      "source": [
        "import streamlit as st\n",
        "from PIL import Image\n",
        "import numpy as np\n",
        "import tensorflow as tf\n",
        "import os\n",
        "\n",
        "# Define the class names (assuming they are the same as during training)\n",
        "class_names = ['angry', 'disgust', 'fear', 'happy', 'neutral', 'sad', 'surprise']\n",
        "\n",
        "# Load the trained model with error handling\n",
        "model_path = 'facial_emotion_detection_model.h5'\n",
        "model = None\n",
        "if not os.path.exists(model_path):\n",
        "    st.error(f\"Error: Model file not found at {model_path}\")\n",
        "    st.stop()\n",
        "else:\n",
        "    try:\n",
        "        model = tf.keras.models.load_model(model_path)\n",
        "    except Exception as e:\n",
        "        st.error(f\"Error loading the model: {e}\")\n",
        "        st.stop()\n",
        "\n",
        "def load_and_preprocess_image(uploaded_file):\n",
        "    \"\"\"\n",
        "    Loads, preprocesses, and returns an image array for model prediction.\n",
        "\n",
        "    Args:\n",
        "        uploaded_file: The file object uploaded via Streamlit's file_uploader.\n",
        "\n",
        "    Returns:\n",
        "        A NumPy array representing the preprocessed image, ready for model prediction,\n",
        "        or None if an error occurs during processing.\n",
        "    \"\"\"\n",
        "    try:\n",
        "        img = Image.open(uploaded_file)\n",
        "        img = img.convert('L')  # Convert to grayscale\n",
        "        img = img.resize((48, 48))  # Resize to 48x48 pixels\n",
        "        img_array = np.array(img)\n",
        "        img_array = img_array / 255.0  # Normalize pixel values\n",
        "        img_array = np.expand_dims(img_array, axis=0)  # Add batch dimension\n",
        "        img_array = np.expand_dims(img_array, axis=-1)  # Add channel dimension for grayscale\n",
        "        return img_array\n",
        "    except Exception as e:\n",
        "        st.error(f\"Error processing image: {e}\")\n",
        "        return None\n",
        "\n",
        "# Streamlit UI\n",
        "st.title(\"Facial Emotion Detection App\")\n",
        "st.write(\"Upload an image to detect the facial emotion.\")\n",
        "\n",
        "uploaded_file = st.file_uploader(\"Choose an image...\", type=[\"jpg\", \"jpeg\", \"png\"])\n",
        "\n",
        "image_placeholder = st.empty()\n",
        "prediction_placeholder = st.empty()\n",
        "\n",
        "if uploaded_file is not None:\n",
        "    image_placeholder.image(uploaded_file, caption=\"Uploaded Image.\", use_column_width=True)\n",
        "    if st.button(\"Detect Emotion\"):\n",
        "        prediction_placeholder.write(\"Detecting emotion...\")\n",
        "        # Preprocess the uploaded image\n",
        "        preprocessed_img = load_and_preprocess_image(uploaded_file)\n",
        "\n",
        "        if preprocessed_img is not None and model is not None:\n",
        "            try:\n",
        "                # Make prediction using the loaded model\n",
        "                predictions = model.predict(preprocessed_img)\n",
        "                predicted_index = np.argmax(predictions)\n",
        "                predicted_class = class_names[predicted_index]\n",
        "                confidence = round(predictions[0][predicted_index] * 100, 2) # Confidence in %\n",
        "\n",
        "                # Display the prediction result\n",
        "                prediction_placeholder.write(f\"**Predicted Emotion:** {predicted_class} with **Confidence:** {confidence}%\")\n",
        "            except Exception as e:\n",
        "                st.error(f\"Error during model prediction: {e}\")\n",
        "                prediction_placeholder.empty() # Clear placeholder if prediction fails\n",
        "        elif model is None:\n",
        "             prediction_placeholder.write(\"Model not loaded. Please check the model file.\")\n",
        "        else:\n",
        "             prediction_placeholder.empty() # Clear placeholder if image processing fails\n",
        "\n",
        "# Save the updated script to app.py\n",
        "streamlit_script_content = \"\"\"\n",
        "import streamlit as st\n",
        "from PIL import Image\n",
        "import numpy as np\n",
        "import tensorflow as tf\n",
        "import os\n",
        "\n",
        "# Define the class names (assuming they are the same as during training)\n",
        "class_names = ['angry', 'disgust', 'fear', 'happy', 'neutral', 'sad', 'surprise']\n",
        "\n",
        "# Load the trained model with error handling\n",
        "model_path = 'facial_emotion_detection_model.h5'\n",
        "model = None\n",
        "if not os.path.exists(model_path):\n",
        "    st.error(f\"Error: Model file not found at {model_path}\")\n",
        "    st.stop()\n",
        "else:\n",
        "    try:\n",
        "        model = tf.keras.models.load_model(model_path)\n",
        "    except Exception as e:\n",
        "        st.error(f\"Error loading the model: {e}\")\n",
        "        st.stop()\n",
        "\n",
        "def load_and_preprocess_image(uploaded_file):\n",
        "    \\\"\\\"\\\"\n",
        "    Loads, preprocesses, and returns an image array for model prediction.\n",
        "\n",
        "    Args:\n",
        "        uploaded_file: The file object uploaded via Streamlit's file_uploader.\n",
        "\n",
        "    Returns:\n",
        "        A NumPy array representing the preprocessed image, ready for model prediction,\n",
        "        or None if an error occurs during processing.\n",
        "    \\\"\\\"\\\"\n",
        "    try:\n",
        "        img = Image.open(uploaded_file)\n",
        "        img = img.convert('L')  # Convert to grayscale\n",
        "        img = img.resize((48, 48))  # Resize to 48x48 pixels\n",
        "        img_array = np.array(img)\n",
        "        img_array = img_array / 255.0  # Normalize pixel values\n",
        "        img_array = np.expand_dims(img_array, axis=0)  # Add batch dimension\n",
        "        img_array = np.expand_dims(img_array, axis=-1)  # Add channel dimension for grayscale\n",
        "        return img_array\n",
        "    except Exception as e:\n",
        "        st.error(f\"Error processing image: {e}\")\n",
        "        return None\n",
        "\n",
        "# Streamlit UI\n",
        "st.title(\"Facial Emotion Detection App\")\n",
        "st.write(\"Upload an image to detect the facial emotion.\")\n",
        "\n",
        "uploaded_file = st.file_uploader(\"Choose an image...\", type=[\"jpg\", \"jpeg\", \"png\"])\n",
        "\n",
        "image_placeholder = st.empty()\n",
        "prediction_placeholder = st.empty()\n",
        "\n",
        "if uploaded_file is not None:\n",
        "    image_placeholder.image(uploaded_file, caption=\"Uploaded Image.\", use_column_width=True)\n",
        "    if st.button(\"Detect Emotion\"):\n",
        "        prediction_placeholder.write(\"Detecting emotion...\")\n",
        "        # Preprocess the uploaded image\n",
        "        preprocessed_img = load_and_preprocess_image(uploaded_file)\n",
        "\n",
        "        if preprocessed_img is not None and model is not None:\n",
        "            try:\n",
        "                # Make prediction using the loaded model\n",
        "                predictions = model.predict(preprocessed_img)\n",
        "                predicted_index = np.argmax(predictions)\n",
        "                predicted_class = class_names[predicted_index]\n",
        "                confidence = round(predictions[0][predicted_index] * 100, 2) # Confidence in %\n",
        "\n",
        "                # Display the prediction result\n",
        "                prediction_placeholder.write(f\"**Predicted Emotion:** {predicted_class} with **Confidence:** {confidence}%\")\n",
        "            except Exception as e:\n",
        "                st.error(f\"Error during model prediction: {e}\")\n",
        "                prediction_placeholder.empty() # Clear placeholder if prediction fails\n",
        "        elif model is None:\n",
        "             prediction_placeholder.write(\"Model not loaded. Please check the model file.\")\n",
        "        else:\n",
        "             prediction_placeholder.empty() # Clear placeholder if image processing fails\n",
        "\"\"\"\n",
        "\n",
        "with open(\"app.py\", \"w\") as f:\n",
        "    f.write(streamlit_script_content)"
      ],
      "execution_count": 26,
      "outputs": [
        {
          "output_type": "stream",
          "name": "stderr",
          "text": [
            "WARNING:absl:Compiled the loaded model, but the compiled metrics have yet to be built. `model.compile_metrics` will be empty until you train or evaluate the model.\n",
            "2025-09-03 11:23:19.603 Thread 'MainThread': missing ScriptRunContext! This warning can be ignored when running in bare mode.\n",
            "2025-09-03 11:23:19.605 Thread 'MainThread': missing ScriptRunContext! This warning can be ignored when running in bare mode.\n",
            "2025-09-03 11:23:19.607 Thread 'MainThread': missing ScriptRunContext! This warning can be ignored when running in bare mode.\n",
            "2025-09-03 11:23:19.610 Thread 'MainThread': missing ScriptRunContext! This warning can be ignored when running in bare mode.\n",
            "2025-09-03 11:23:19.614 Thread 'MainThread': missing ScriptRunContext! This warning can be ignored when running in bare mode.\n",
            "2025-09-03 11:23:19.616 Thread 'MainThread': missing ScriptRunContext! This warning can be ignored when running in bare mode.\n",
            "2025-09-03 11:23:19.618 Thread 'MainThread': missing ScriptRunContext! This warning can be ignored when running in bare mode.\n",
            "2025-09-03 11:23:19.621 Thread 'MainThread': missing ScriptRunContext! This warning can be ignored when running in bare mode.\n",
            "2025-09-03 11:23:19.623 Thread 'MainThread': missing ScriptRunContext! This warning can be ignored when running in bare mode.\n",
            "2025-09-03 11:23:19.628 Thread 'MainThread': missing ScriptRunContext! This warning can be ignored when running in bare mode.\n",
            "2025-09-03 11:23:19.629 Thread 'MainThread': missing ScriptRunContext! This warning can be ignored when running in bare mode.\n",
            "2025-09-03 11:23:19.630 Thread 'MainThread': missing ScriptRunContext! This warning can be ignored when running in bare mode.\n",
            "2025-09-03 11:23:19.631 Thread 'MainThread': missing ScriptRunContext! This warning can be ignored when running in bare mode.\n",
            "2025-09-03 11:23:19.632 Thread 'MainThread': missing ScriptRunContext! This warning can be ignored when running in bare mode.\n",
            "2025-09-03 11:23:19.632 Thread 'MainThread': missing ScriptRunContext! This warning can be ignored when running in bare mode.\n",
            "2025-09-03 11:23:19.633 Thread 'MainThread': missing ScriptRunContext! This warning can be ignored when running in bare mode.\n",
            "2025-09-03 11:23:19.634 Thread 'MainThread': missing ScriptRunContext! This warning can be ignored when running in bare mode.\n",
            "2025-09-03 11:23:19.635 Thread 'MainThread': missing ScriptRunContext! This warning can be ignored when running in bare mode.\n"
          ]
        }
      ]
    },
    {
      "cell_type": "markdown",
      "metadata": {
        "id": "97651393"
      },
      "source": [
        "## Deploy the application\n",
        "\n",
        "### Subtask:\n",
        "Deploy the web application to a hosting platform (e.g., Heroku, Google Cloud Platform, or AWS) to make it accessible to users.\n"
      ]
    },
    {
      "cell_type": "markdown",
      "metadata": {
        "id": "00b7c9be"
      },
      "source": [
        "**Reasoning**:\n",
        "Create the requirements.txt file listing the necessary libraries for the Streamlit application, including streamlit, tensorflow, numpy, and pillow.\n",
        "\n"
      ]
    },
    {
      "cell_type": "code",
      "metadata": {
        "id": "6d2ff71d"
      },
      "source": [
        "requirements_content = \"\"\"\n",
        "streamlit\n",
        "tensorflow\n",
        "numpy\n",
        "Pillow\n",
        "\"\"\"\n",
        "\n",
        "with open(\"requirements.txt\", \"w\") as f:\n",
        "    f.write(requirements_content)"
      ],
      "execution_count": 27,
      "outputs": []
    },
    {
      "cell_type": "markdown",
      "metadata": {
        "id": "63a99baa"
      },
      "source": [
        "## Summary:\n",
        "\n",
        "### Data Analysis Key Findings\n",
        "\n",
        "*   Streamlit was chosen as the web framework for its ease of use and suitability for data science applications.\n",
        "*   A basic Streamlit user interface was designed with a file uploader for images and placeholders for displaying the uploaded image and prediction results.\n",
        "*   Python scripts were created to handle image loading, grayscale conversion, resizing to 48x48 pixels, normalization, and reshaping for model input.\n",
        "*   The trained Keras model (`facial_emotion_detection_model.h5`) was successfully integrated into the Streamlit application for making predictions.\n",
        "*   The application was designed to display the predicted emotion and confidence level to the user.\n",
        "*   Error handling was implemented for potential issues such as the model file not being found, errors during model loading, exceptions during image processing, and errors during model prediction.\n",
        "*   A `requirements.txt` file was created listing the necessary dependencies for deployment: `streamlit`, `tensorflow`, `numpy`, and `Pillow`.\n",
        "\n",
        "### Insights or Next Steps\n",
        "\n",
        "*   The application is ready for deployment to a hosting platform like Streamlit Cloud, Heroku, or Google Cloud Platform using the prepared files (`app.py`, `facial_emotion_detection_model.h5`, `requirements.txt`).\n",
        "*   Further enhancements could include adding visual feedback during the detection process, improving the UI/UX, and potentially adding support for real-time video analysis.\n"
      ]
    },
    {
      "cell_type": "code",
      "metadata": {
        "colab": {
          "base_uri": "https://localhost:8080/"
        },
        "id": "3bbd96f1",
        "outputId": "18b3f9ef-a9c6-4a4a-bbad-20bf8782aac1"
      },
      "source": [
        "!streamlit run app.py"
      ],
      "execution_count": null,
      "outputs": [
        {
          "output_type": "stream",
          "name": "stdout",
          "text": [
            "\n",
            "Collecting usage statistics. To deactivate, set browser.gatherUsageStats to false.\n",
            "\u001b[0m\n",
            "\u001b[0m\n",
            "\u001b[34m\u001b[1m  You can now view your Streamlit app in your browser.\u001b[0m\n",
            "\u001b[0m\n",
            "\u001b[34m  Local URL: \u001b[0m\u001b[1mhttp://localhost:8501\u001b[0m\n",
            "\u001b[34m  Network URL: \u001b[0m\u001b[1mhttp://172.28.0.12:8501\u001b[0m\n",
            "\u001b[34m  External URL: \u001b[0m\u001b[1mhttp://34.82.222.60:8501\u001b[0m\n",
            "\u001b[0m\n"
          ]
        }
      ]
    },
    {
      "cell_type": "markdown",
      "metadata": {
        "id": "c0dff1eb"
      },
      "source": [
        "# Task\n",
        "Deploy the Streamlit application to Streamlit Cloud."
      ]
    },
    {
      "cell_type": "markdown",
      "metadata": {
        "id": "5dbdfc7d"
      },
      "source": [
        "## Create a github repository\n",
        "\n",
        "### Subtask:\n",
        "Create a new public GitHub repository and upload your application files (`app.py`, `facial_emotion_detection_model.h5`, and `requirements.txt`) to it.\n"
      ]
    },
    {
      "cell_type": "markdown",
      "metadata": {
        "id": "95f3c7af"
      },
      "source": [
        "## Sign up for streamlit cloud\n",
        "\n",
        "### Subtask:\n",
        "Go to the Streamlit Cloud website and sign up for an account.\n"
      ]
    },
    {
      "cell_type": "markdown",
      "metadata": {
        "id": "fe694860"
      },
      "source": [
        "## Connect github account\n",
        "\n",
        "### Subtask:\n",
        "Connect your GitHub account to your Streamlit Cloud account.\n"
      ]
    },
    {
      "cell_type": "markdown",
      "metadata": {
        "id": "4d28db5c"
      },
      "source": [
        "## Deploy the application\n",
        "\n",
        "### Subtask:\n",
        "Select your GitHub repository and the main file (`app.py`) in the Streamlit Cloud dashboard to deploy your application.\n"
      ]
    },
    {
      "cell_type": "markdown",
      "metadata": {
        "id": "c531cd79"
      },
      "source": [
        "## Access the deployed app\n",
        "\n",
        "### Subtask:\n",
        "Access the deployed web application using the public URL provided by Streamlit Cloud.\n"
      ]
    },
    {
      "cell_type": "markdown",
      "metadata": {
        "id": "f753ca17"
      },
      "source": [
        "## Summary:\n",
        "\n",
        "### Data Analysis Key Findings\n",
        "\n",
        "*   Creating a public GitHub repository and uploading files required manual interaction outside of the environment.\n",
        "*   Signing up for Streamlit Cloud, connecting a GitHub account, and deploying the application necessitated manual steps within the Streamlit Cloud website and dashboard.\n",
        "*   Accessing the deployed application via its public URL could not be performed within the environment due to the lack of web browser access.\n",
        "\n",
        "### Insights or Next Steps\n",
        "\n",
        "*   The entire process of deploying a Streamlit application to Streamlit Cloud as outlined requires significant manual steps that cannot be automated within this environment.\n",
        "*   To successfully deploy the application, these steps must be performed manually by the user outside of the current execution environment.\n"
      ]
    }
  ]
}